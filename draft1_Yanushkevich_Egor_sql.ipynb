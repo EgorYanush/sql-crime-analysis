{
  "nbformat": 4,
  "nbformat_minor": 0,
  "metadata": {
    "colab": {
      "provenance": [],
      "include_colab_link": true
    },
    "kernelspec": {
      "name": "python3",
      "display_name": "Python 3"
    },
    "language_info": {
      "name": "python"
    }
  },
  "cells": [
    {
      "cell_type": "markdown",
      "metadata": {
        "id": "view-in-github",
        "colab_type": "text"
      },
      "source": [
        "<a href=\"https://colab.research.google.com/github/EgorYanush/sql-crime-analysis/blob/main/draft1_Yanushkevich_Egor_sql.ipynb\" target=\"_parent\"><img src=\"https://colab.research.google.com/assets/colab-badge.svg\" alt=\"Open In Colab\"/></a>"
      ]
    },
    {
      "cell_type": "markdown",
      "source": [
        "# פרויקט סוף קורס SQL"
      ],
      "metadata": {
        "id": "3lZLj5YN8qTH"
      }
    },
    {
      "cell_type": "markdown",
      "source": [
        "Yanushkevich Egor"
      ],
      "metadata": {
        "id": "trITAkAnwmN-"
      }
    },
    {
      "cell_type": "markdown",
      "source": [
        "\n",
        "ניתוח מגמות פשיעה במחוז מסוים\n",
        "בעזרת שפת sql\n",
        "\n"
      ],
      "metadata": {
        "id": "Zj25Y109vXLu"
      }
    },
    {
      "cell_type": "markdown",
      "source": [
        "#Step 1: Load .csv Files to Colab\n",
        "\n",
        "The data was dowloaded from https://data.gov.il/dataset/crime_records_data in educational purposes.\n",
        "\n",
        "The total dataset was splited into 21 smaller files, filtered by district, and placed here https://github.com/annakoopenu/SQL_ATID_FINAL/tree/main to allow direct access from colab notebook"
      ],
      "metadata": {
        "id": "qHzjisP-wd-1"
      }
    },
    {
      "cell_type": "code",
      "source": [
        "ls"
      ],
      "metadata": {
        "id": "e2qeCERQ0L7O",
        "colab": {
          "base_uri": "https://localhost:8080/"
        },
        "outputId": "ca1397b6-e077-46e8-f9dd-abd088b28f09"
      },
      "execution_count": null,
      "outputs": [
        {
          "output_type": "stream",
          "name": "stdout",
          "text": [
            "\u001b[0m\u001b[01;34msample_data\u001b[0m/\n"
          ]
        }
      ]
    },
    {
      "cell_type": "code",
      "source": [
        "!pip install GitPython"
      ],
      "metadata": {
        "colab": {
          "base_uri": "https://localhost:8080/"
        },
        "id": "wMaWgdlPzD-Y",
        "outputId": "ea34084e-ec65-42a7-9669-7bc3c5415b08"
      },
      "execution_count": null,
      "outputs": [
        {
          "output_type": "stream",
          "name": "stdout",
          "text": [
            "Collecting GitPython\n",
            "  Downloading GitPython-3.1.43-py3-none-any.whl.metadata (13 kB)\n",
            "Collecting gitdb<5,>=4.0.1 (from GitPython)\n",
            "  Downloading gitdb-4.0.11-py3-none-any.whl.metadata (1.2 kB)\n",
            "Collecting smmap<6,>=3.0.1 (from gitdb<5,>=4.0.1->GitPython)\n",
            "  Downloading smmap-5.0.1-py3-none-any.whl.metadata (4.3 kB)\n",
            "Downloading GitPython-3.1.43-py3-none-any.whl (207 kB)\n",
            "\u001b[2K   \u001b[90m━━━━━━━━━━━━━━━━━━━━━━━━━━━━━━━━━━━━━━━━\u001b[0m \u001b[32m207.3/207.3 kB\u001b[0m \u001b[31m4.0 MB/s\u001b[0m eta \u001b[36m0:00:00\u001b[0m\n",
            "\u001b[?25hDownloading gitdb-4.0.11-py3-none-any.whl (62 kB)\n",
            "\u001b[2K   \u001b[90m━━━━━━━━━━━━━━━━━━━━━━━━━━━━━━━━━━━━━━━━\u001b[0m \u001b[32m62.7/62.7 kB\u001b[0m \u001b[31m2.6 MB/s\u001b[0m eta \u001b[36m0:00:00\u001b[0m\n",
            "\u001b[?25hDownloading smmap-5.0.1-py3-none-any.whl (24 kB)\n",
            "Installing collected packages: smmap, gitdb, GitPython\n",
            "Successfully installed GitPython-3.1.43 gitdb-4.0.11 smmap-5.0.1\n"
          ]
        }
      ]
    },
    {
      "cell_type": "code",
      "source": [
        "import os\n",
        "from git import Repo"
      ],
      "metadata": {
        "id": "Vu4Bjom19hzI"
      },
      "execution_count": null,
      "outputs": []
    },
    {
      "cell_type": "code",
      "source": [
        "ls"
      ],
      "metadata": {
        "colab": {
          "base_uri": "https://localhost:8080/"
        },
        "id": "Cgqf9KWCIBjQ",
        "outputId": "61fea66b-4e76-4fa9-c575-4880cb06dcda"
      },
      "execution_count": null,
      "outputs": [
        {
          "output_type": "stream",
          "name": "stdout",
          "text": [
            "\u001b[0m\u001b[01;34msample_data\u001b[0m/\n"
          ]
        }
      ]
    },
    {
      "cell_type": "code",
      "source": [
        "import pandas as pd"
      ],
      "metadata": {
        "id": "Ap91kIEp8u4b"
      },
      "execution_count": null,
      "outputs": []
    },
    {
      "cell_type": "code",
      "source": [
        "\n",
        "# Define the URL of the CSV file\n",
        "\n",
        "#sub_dataset_1_מרחב_שרון.csv\n",
        "#url = 'https://github.com/annakoopenu/SQL_ATID_FINAL/blob/98c5003e679043251c1352010982a14e5f6e38d5/sub_dataset_1_%D7%9E%D7%A8%D7%97%D7%91_%D7%A9%D7%A8%D7%95%D7%9F.csv\n",
        "\n",
        "#sub_dataset_2_מרחב_איילון_החדש_תא.csv\n",
        "#url = 'https://github.com/annakoopenu/SQL_ATID_FINAL/blob/98c5003e679043251c1352010982a14e5f6e38d5/sub_dataset_2_%D7%9E%D7%A8%D7%97%D7%91_%D7%90%D7%99%D7%99%D7%9C%D7%95%D7%9F_%D7%94%D7%97%D7%93%D7%A9_%D7%AA%D7%90.csv'\n",
        "\n",
        "#sub_dataset_3_מרחב_שפלה.csv\n",
        "#url = 'https://github.com/annakoopenu/SQL_ATID_FINAL/blob/98c5003e679043251c1352010982a14e5f6e38d5/sub_dataset_3_%D7%9E%D7%A8%D7%97%D7%91_%D7%A9%D7%A4%D7%9C%D7%94.csv'\n",
        "\n",
        "#sub_dataset_4_מרחב_ציון_ירושלים.csv\n",
        "#url = 'https://github.com/annakoopenu/SQL_ATID_FINAL/blob/98c5003e679043251c1352010982a14e5f6e38d5/sub_dataset_4_%D7%9E%D7%A8%D7%97%D7%91_%D7%A6%D7%99%D7%95%D7%9F_%D7%99%D7%A8%D7%95%D7%A9%D7%9C%D7%99%D7%9D.csv'\n",
        "\n",
        "#sub_dataset_5_מרחב_לכיש.csv\n",
        "#url = 'https://github.com/annakoopenu/SQL_ATID_FINAL/blob/98c5003e679043251c1352010982a14e5f6e38d5/sub_dataset_5_%D7%9E%D7%A8%D7%97%D7%91_%D7%9C%D7%9B%D7%99%D7%A9.csv'\n",
        "\n",
        "#sub_dataset_6_מרחב_נגב.csv\n",
        "#url = 'https://github.com/annakoopenu/SQL_ATID_FINAL/blob/98c5003e679043251c1352010982a14e5f6e38d5/sub_dataset_6_%D7%9E%D7%A8%D7%97%D7%91_%D7%A0%D7%92%D7%91.csv'\n",
        "\n",
        "#sub_dataset_7_מרחב_ירקון_תא.csv\n",
        "#url = 'https://github.com/annakoopenu/SQL_ATID_FINAL/blob/98c5003e679043251c1352010982a14e5f6e38d5/sub_dataset_7_%D7%9E%D7%A8%D7%97%D7%91_%D7%99%D7%A8%D7%A7%D7%95%D7%9F_%D7%AA%D7%90.csv'\n",
        "\n",
        "#sub_dataset_8_מרחב_דן_תא.csv\n",
        "#url = 'https://github.com/annakoopenu/SQL_ATID_FINAL/blob/98c5003e679043251c1352010982a14e5f6e38d5/sub_dataset_8_%D7%9E%D7%A8%D7%97%D7%91_%D7%93%D7%9F_%D7%AA%D7%90.csv'\n",
        "\n",
        "#sub_dataset_9_מרחב_אשר_חוף.csv\n",
        "#url = 'https://github.com/annakoopenu/SQL_ATID_FINAL/blob/98c5003e679043251c1352010982a14e5f6e38d5/sub_dataset_9_%D7%9E%D7%A8%D7%97%D7%91_%D7%90%D7%A9%D7%A8_%D7%97%D7%95%D7%A3.csv'\n",
        "\n",
        "#sub_dataset_10_מרחב_עמקים_צפון.csv\n",
        "url = 'https://github.com/annakoopenu/SQL_ATID_FINAL/blob/98c5003e679043251c1352010982a14e5f6e38d5/sub_dataset_10_%D7%9E%D7%A8%D7%97%D7%91_%D7%A2%D7%9E%D7%A7%D7%99%D7%9D_%D7%A6%D7%A4%D7%95%D7%9F.csv?raw=true'\n",
        "\n",
        "#sub_dataset_11_מרחב_כרמל_חוף.csv\n",
        "#url = 'https://github.com/annakoopenu/SQL_ATID_FINAL/blob/98c5003e679043251c1352010982a14e5f6e38d5/sub_dataset_11_%D7%9E%D7%A8%D7%97%D7%91_%D7%9B%D7%A8%D7%9E%D7%9C_%D7%97%D7%95%D7%A3.csv?raw=true'\n",
        "\n",
        "# Read the CSV file from the URL\n",
        "df_crimes = pd.read_csv(url)\n",
        "\n",
        "# Display the first few rows of the dataset to verify\n",
        "df_crimes.head()"
      ],
      "metadata": {
        "id": "HZvirGZO-cH8",
        "colab": {
          "base_uri": "https://localhost:8080/",
          "height": 206
        },
        "outputId": "f614ce2f-69eb-406a-aee8-5b00b243470a"
      },
      "execution_count": null,
      "outputs": [
        {
          "output_type": "execute_result",
          "data": {
            "text/plain": [
              "                                ArealAttributionType PoliceDistrict  \\\n",
              "0  תיקים בטריטוריית תחנה שלא שוייכו לאזור סטטיסטי...      מחוז צפון   \n",
              "1  תיקים בטריטוריית תחנה שלא שוייכו לאזור סטטיסטי...      מחוז צפון   \n",
              "2  תיקים בטריטוריית תחנה שלא שוייכו לאזור סטטיסטי...      מחוז צפון   \n",
              "3  תיקים בטריטוריית תחנה שלא שוייכו לאזור סטטיסטי...      מחוז צפון   \n",
              "4         תיקים בישוב/מועצה שלא שוייכו לאזור סטטיסטי      מחוז צפון   \n",
              "\n",
              "      PoliceMerhav            PoliceStation Settlement_Council  StatArea  \\\n",
              "0  מרחב עמקים צפון  תחנת בית שאן עמקים צפון                NaN       NaN   \n",
              "1  מרחב עמקים צפון  תחנת בית שאן עמקים צפון                NaN       NaN   \n",
              "2  מרחב עמקים צפון  תחנת בית שאן עמקים צפון                NaN       NaN   \n",
              "3  מרחב עמקים צפון  תחנת בית שאן עמקים צפון                NaN       NaN   \n",
              "4  מרחב עמקים צפון  תחנת בית שאן עמקים צפון            בית שאן       NaN   \n",
              "\n",
              "   Quarter StatisticCrimeGroup StatisticCrimeType  TikimSum  \n",
              "0  2021-Q2                 NaN                NaN         1  \n",
              "1  2022-Q3                 NaN                NaN         3  \n",
              "2  2022-Q4                 NaN                NaN         2  \n",
              "3  2023-Q1                 NaN                NaN         1  \n",
              "4  2018-Q1                 NaN                NaN        50  "
            ],
            "text/html": [
              "\n",
              "  <div id=\"df-2920d857-0c75-43cf-8a4d-26e77f2cadf2\" class=\"colab-df-container\">\n",
              "    <div>\n",
              "<style scoped>\n",
              "    .dataframe tbody tr th:only-of-type {\n",
              "        vertical-align: middle;\n",
              "    }\n",
              "\n",
              "    .dataframe tbody tr th {\n",
              "        vertical-align: top;\n",
              "    }\n",
              "\n",
              "    .dataframe thead th {\n",
              "        text-align: right;\n",
              "    }\n",
              "</style>\n",
              "<table border=\"1\" class=\"dataframe\">\n",
              "  <thead>\n",
              "    <tr style=\"text-align: right;\">\n",
              "      <th></th>\n",
              "      <th>ArealAttributionType</th>\n",
              "      <th>PoliceDistrict</th>\n",
              "      <th>PoliceMerhav</th>\n",
              "      <th>PoliceStation</th>\n",
              "      <th>Settlement_Council</th>\n",
              "      <th>StatArea</th>\n",
              "      <th>Quarter</th>\n",
              "      <th>StatisticCrimeGroup</th>\n",
              "      <th>StatisticCrimeType</th>\n",
              "      <th>TikimSum</th>\n",
              "    </tr>\n",
              "  </thead>\n",
              "  <tbody>\n",
              "    <tr>\n",
              "      <th>0</th>\n",
              "      <td>תיקים בטריטוריית תחנה שלא שוייכו לאזור סטטיסטי...</td>\n",
              "      <td>מחוז צפון</td>\n",
              "      <td>מרחב עמקים צפון</td>\n",
              "      <td>תחנת בית שאן עמקים צפון</td>\n",
              "      <td>NaN</td>\n",
              "      <td>NaN</td>\n",
              "      <td>2021-Q2</td>\n",
              "      <td>NaN</td>\n",
              "      <td>NaN</td>\n",
              "      <td>1</td>\n",
              "    </tr>\n",
              "    <tr>\n",
              "      <th>1</th>\n",
              "      <td>תיקים בטריטוריית תחנה שלא שוייכו לאזור סטטיסטי...</td>\n",
              "      <td>מחוז צפון</td>\n",
              "      <td>מרחב עמקים צפון</td>\n",
              "      <td>תחנת בית שאן עמקים צפון</td>\n",
              "      <td>NaN</td>\n",
              "      <td>NaN</td>\n",
              "      <td>2022-Q3</td>\n",
              "      <td>NaN</td>\n",
              "      <td>NaN</td>\n",
              "      <td>3</td>\n",
              "    </tr>\n",
              "    <tr>\n",
              "      <th>2</th>\n",
              "      <td>תיקים בטריטוריית תחנה שלא שוייכו לאזור סטטיסטי...</td>\n",
              "      <td>מחוז צפון</td>\n",
              "      <td>מרחב עמקים צפון</td>\n",
              "      <td>תחנת בית שאן עמקים צפון</td>\n",
              "      <td>NaN</td>\n",
              "      <td>NaN</td>\n",
              "      <td>2022-Q4</td>\n",
              "      <td>NaN</td>\n",
              "      <td>NaN</td>\n",
              "      <td>2</td>\n",
              "    </tr>\n",
              "    <tr>\n",
              "      <th>3</th>\n",
              "      <td>תיקים בטריטוריית תחנה שלא שוייכו לאזור סטטיסטי...</td>\n",
              "      <td>מחוז צפון</td>\n",
              "      <td>מרחב עמקים צפון</td>\n",
              "      <td>תחנת בית שאן עמקים צפון</td>\n",
              "      <td>NaN</td>\n",
              "      <td>NaN</td>\n",
              "      <td>2023-Q1</td>\n",
              "      <td>NaN</td>\n",
              "      <td>NaN</td>\n",
              "      <td>1</td>\n",
              "    </tr>\n",
              "    <tr>\n",
              "      <th>4</th>\n",
              "      <td>תיקים בישוב/מועצה שלא שוייכו לאזור סטטיסטי</td>\n",
              "      <td>מחוז צפון</td>\n",
              "      <td>מרחב עמקים צפון</td>\n",
              "      <td>תחנת בית שאן עמקים צפון</td>\n",
              "      <td>בית שאן</td>\n",
              "      <td>NaN</td>\n",
              "      <td>2018-Q1</td>\n",
              "      <td>NaN</td>\n",
              "      <td>NaN</td>\n",
              "      <td>50</td>\n",
              "    </tr>\n",
              "  </tbody>\n",
              "</table>\n",
              "</div>\n",
              "    <div class=\"colab-df-buttons\">\n",
              "\n",
              "  <div class=\"colab-df-container\">\n",
              "    <button class=\"colab-df-convert\" onclick=\"convertToInteractive('df-2920d857-0c75-43cf-8a4d-26e77f2cadf2')\"\n",
              "            title=\"Convert this dataframe to an interactive table.\"\n",
              "            style=\"display:none;\">\n",
              "\n",
              "  <svg xmlns=\"http://www.w3.org/2000/svg\" height=\"24px\" viewBox=\"0 -960 960 960\">\n",
              "    <path d=\"M120-120v-720h720v720H120Zm60-500h600v-160H180v160Zm220 220h160v-160H400v160Zm0 220h160v-160H400v160ZM180-400h160v-160H180v160Zm440 0h160v-160H620v160ZM180-180h160v-160H180v160Zm440 0h160v-160H620v160Z\"/>\n",
              "  </svg>\n",
              "    </button>\n",
              "\n",
              "  <style>\n",
              "    .colab-df-container {\n",
              "      display:flex;\n",
              "      gap: 12px;\n",
              "    }\n",
              "\n",
              "    .colab-df-convert {\n",
              "      background-color: #E8F0FE;\n",
              "      border: none;\n",
              "      border-radius: 50%;\n",
              "      cursor: pointer;\n",
              "      display: none;\n",
              "      fill: #1967D2;\n",
              "      height: 32px;\n",
              "      padding: 0 0 0 0;\n",
              "      width: 32px;\n",
              "    }\n",
              "\n",
              "    .colab-df-convert:hover {\n",
              "      background-color: #E2EBFA;\n",
              "      box-shadow: 0px 1px 2px rgba(60, 64, 67, 0.3), 0px 1px 3px 1px rgba(60, 64, 67, 0.15);\n",
              "      fill: #174EA6;\n",
              "    }\n",
              "\n",
              "    .colab-df-buttons div {\n",
              "      margin-bottom: 4px;\n",
              "    }\n",
              "\n",
              "    [theme=dark] .colab-df-convert {\n",
              "      background-color: #3B4455;\n",
              "      fill: #D2E3FC;\n",
              "    }\n",
              "\n",
              "    [theme=dark] .colab-df-convert:hover {\n",
              "      background-color: #434B5C;\n",
              "      box-shadow: 0px 1px 3px 1px rgba(0, 0, 0, 0.15);\n",
              "      filter: drop-shadow(0px 1px 2px rgba(0, 0, 0, 0.3));\n",
              "      fill: #FFFFFF;\n",
              "    }\n",
              "  </style>\n",
              "\n",
              "    <script>\n",
              "      const buttonEl =\n",
              "        document.querySelector('#df-2920d857-0c75-43cf-8a4d-26e77f2cadf2 button.colab-df-convert');\n",
              "      buttonEl.style.display =\n",
              "        google.colab.kernel.accessAllowed ? 'block' : 'none';\n",
              "\n",
              "      async function convertToInteractive(key) {\n",
              "        const element = document.querySelector('#df-2920d857-0c75-43cf-8a4d-26e77f2cadf2');\n",
              "        const dataTable =\n",
              "          await google.colab.kernel.invokeFunction('convertToInteractive',\n",
              "                                                    [key], {});\n",
              "        if (!dataTable) return;\n",
              "\n",
              "        const docLinkHtml = 'Like what you see? Visit the ' +\n",
              "          '<a target=\"_blank\" href=https://colab.research.google.com/notebooks/data_table.ipynb>data table notebook</a>'\n",
              "          + ' to learn more about interactive tables.';\n",
              "        element.innerHTML = '';\n",
              "        dataTable['output_type'] = 'display_data';\n",
              "        await google.colab.output.renderOutput(dataTable, element);\n",
              "        const docLink = document.createElement('div');\n",
              "        docLink.innerHTML = docLinkHtml;\n",
              "        element.appendChild(docLink);\n",
              "      }\n",
              "    </script>\n",
              "  </div>\n",
              "\n",
              "\n",
              "<div id=\"df-6fe46732-e704-4d80-85ce-c19f4f6f537d\">\n",
              "  <button class=\"colab-df-quickchart\" onclick=\"quickchart('df-6fe46732-e704-4d80-85ce-c19f4f6f537d')\"\n",
              "            title=\"Suggest charts\"\n",
              "            style=\"display:none;\">\n",
              "\n",
              "<svg xmlns=\"http://www.w3.org/2000/svg\" height=\"24px\"viewBox=\"0 0 24 24\"\n",
              "     width=\"24px\">\n",
              "    <g>\n",
              "        <path d=\"M19 3H5c-1.1 0-2 .9-2 2v14c0 1.1.9 2 2 2h14c1.1 0 2-.9 2-2V5c0-1.1-.9-2-2-2zM9 17H7v-7h2v7zm4 0h-2V7h2v10zm4 0h-2v-4h2v4z\"/>\n",
              "    </g>\n",
              "</svg>\n",
              "  </button>\n",
              "\n",
              "<style>\n",
              "  .colab-df-quickchart {\n",
              "      --bg-color: #E8F0FE;\n",
              "      --fill-color: #1967D2;\n",
              "      --hover-bg-color: #E2EBFA;\n",
              "      --hover-fill-color: #174EA6;\n",
              "      --disabled-fill-color: #AAA;\n",
              "      --disabled-bg-color: #DDD;\n",
              "  }\n",
              "\n",
              "  [theme=dark] .colab-df-quickchart {\n",
              "      --bg-color: #3B4455;\n",
              "      --fill-color: #D2E3FC;\n",
              "      --hover-bg-color: #434B5C;\n",
              "      --hover-fill-color: #FFFFFF;\n",
              "      --disabled-bg-color: #3B4455;\n",
              "      --disabled-fill-color: #666;\n",
              "  }\n",
              "\n",
              "  .colab-df-quickchart {\n",
              "    background-color: var(--bg-color);\n",
              "    border: none;\n",
              "    border-radius: 50%;\n",
              "    cursor: pointer;\n",
              "    display: none;\n",
              "    fill: var(--fill-color);\n",
              "    height: 32px;\n",
              "    padding: 0;\n",
              "    width: 32px;\n",
              "  }\n",
              "\n",
              "  .colab-df-quickchart:hover {\n",
              "    background-color: var(--hover-bg-color);\n",
              "    box-shadow: 0 1px 2px rgba(60, 64, 67, 0.3), 0 1px 3px 1px rgba(60, 64, 67, 0.15);\n",
              "    fill: var(--button-hover-fill-color);\n",
              "  }\n",
              "\n",
              "  .colab-df-quickchart-complete:disabled,\n",
              "  .colab-df-quickchart-complete:disabled:hover {\n",
              "    background-color: var(--disabled-bg-color);\n",
              "    fill: var(--disabled-fill-color);\n",
              "    box-shadow: none;\n",
              "  }\n",
              "\n",
              "  .colab-df-spinner {\n",
              "    border: 2px solid var(--fill-color);\n",
              "    border-color: transparent;\n",
              "    border-bottom-color: var(--fill-color);\n",
              "    animation:\n",
              "      spin 1s steps(1) infinite;\n",
              "  }\n",
              "\n",
              "  @keyframes spin {\n",
              "    0% {\n",
              "      border-color: transparent;\n",
              "      border-bottom-color: var(--fill-color);\n",
              "      border-left-color: var(--fill-color);\n",
              "    }\n",
              "    20% {\n",
              "      border-color: transparent;\n",
              "      border-left-color: var(--fill-color);\n",
              "      border-top-color: var(--fill-color);\n",
              "    }\n",
              "    30% {\n",
              "      border-color: transparent;\n",
              "      border-left-color: var(--fill-color);\n",
              "      border-top-color: var(--fill-color);\n",
              "      border-right-color: var(--fill-color);\n",
              "    }\n",
              "    40% {\n",
              "      border-color: transparent;\n",
              "      border-right-color: var(--fill-color);\n",
              "      border-top-color: var(--fill-color);\n",
              "    }\n",
              "    60% {\n",
              "      border-color: transparent;\n",
              "      border-right-color: var(--fill-color);\n",
              "    }\n",
              "    80% {\n",
              "      border-color: transparent;\n",
              "      border-right-color: var(--fill-color);\n",
              "      border-bottom-color: var(--fill-color);\n",
              "    }\n",
              "    90% {\n",
              "      border-color: transparent;\n",
              "      border-bottom-color: var(--fill-color);\n",
              "    }\n",
              "  }\n",
              "</style>\n",
              "\n",
              "  <script>\n",
              "    async function quickchart(key) {\n",
              "      const quickchartButtonEl =\n",
              "        document.querySelector('#' + key + ' button');\n",
              "      quickchartButtonEl.disabled = true;  // To prevent multiple clicks.\n",
              "      quickchartButtonEl.classList.add('colab-df-spinner');\n",
              "      try {\n",
              "        const charts = await google.colab.kernel.invokeFunction(\n",
              "            'suggestCharts', [key], {});\n",
              "      } catch (error) {\n",
              "        console.error('Error during call to suggestCharts:', error);\n",
              "      }\n",
              "      quickchartButtonEl.classList.remove('colab-df-spinner');\n",
              "      quickchartButtonEl.classList.add('colab-df-quickchart-complete');\n",
              "    }\n",
              "    (() => {\n",
              "      let quickchartButtonEl =\n",
              "        document.querySelector('#df-6fe46732-e704-4d80-85ce-c19f4f6f537d button');\n",
              "      quickchartButtonEl.style.display =\n",
              "        google.colab.kernel.accessAllowed ? 'block' : 'none';\n",
              "    })();\n",
              "  </script>\n",
              "</div>\n",
              "\n",
              "    </div>\n",
              "  </div>\n"
            ],
            "application/vnd.google.colaboratory.intrinsic+json": {
              "type": "dataframe",
              "variable_name": "df_crimes",
              "summary": "{\n  \"name\": \"df_crimes\",\n  \"rows\": 25200,\n  \"fields\": [\n    {\n      \"column\": \"ArealAttributionType\",\n      \"properties\": {\n        \"dtype\": \"category\",\n        \"num_unique_values\": 3,\n        \"samples\": [\n          \"\\u05ea\\u05d9\\u05e7\\u05d9\\u05dd \\u05d1\\u05d8\\u05e8\\u05d9\\u05d8\\u05d5\\u05e8\\u05d9\\u05d9\\u05ea \\u05ea\\u05d7\\u05e0\\u05d4 \\u05e9\\u05dc\\u05d0 \\u05e9\\u05d5\\u05d9\\u05d9\\u05db\\u05d5 \\u05dc\\u05d0\\u05d6\\u05d5\\u05e8 \\u05e1\\u05d8\\u05d8\\u05d9\\u05e1\\u05d8\\u05d9, \\u05d0\\u05d5 \\u05dc\\u05d9\\u05e9\\u05d5\\u05d1/\\u05de\\u05d5\\u05e2\\u05e6\\u05d4\",\n          \"\\u05ea\\u05d9\\u05e7\\u05d9\\u05dd \\u05d1\\u05d9\\u05e9\\u05d5\\u05d1/\\u05de\\u05d5\\u05e2\\u05e6\\u05d4 \\u05e9\\u05dc\\u05d0 \\u05e9\\u05d5\\u05d9\\u05d9\\u05db\\u05d5 \\u05dc\\u05d0\\u05d6\\u05d5\\u05e8 \\u05e1\\u05d8\\u05d8\\u05d9\\u05e1\\u05d8\\u05d9\",\n          \"\\u05ea\\u05d9\\u05e7\\u05d9\\u05dd \\u05d1\\u05d0\\u05d6\\u05d5\\u05e8 \\u05e1\\u05d8\\u05d8\\u05d9\\u05e1\\u05d8\\u05d9\"\n        ],\n        \"semantic_type\": \"\",\n        \"description\": \"\"\n      }\n    },\n    {\n      \"column\": \"PoliceDistrict\",\n      \"properties\": {\n        \"dtype\": \"category\",\n        \"num_unique_values\": 1,\n        \"samples\": [\n          \"\\u05de\\u05d7\\u05d5\\u05d6 \\u05e6\\u05e4\\u05d5\\u05df\"\n        ],\n        \"semantic_type\": \"\",\n        \"description\": \"\"\n      }\n    },\n    {\n      \"column\": \"PoliceMerhav\",\n      \"properties\": {\n        \"dtype\": \"category\",\n        \"num_unique_values\": 1,\n        \"samples\": [\n          \"\\u05de\\u05e8\\u05d7\\u05d1 \\u05e2\\u05de\\u05e7\\u05d9\\u05dd \\u05e6\\u05e4\\u05d5\\u05df\"\n        ],\n        \"semantic_type\": \"\",\n        \"description\": \"\"\n      }\n    },\n    {\n      \"column\": \"PoliceStation\",\n      \"properties\": {\n        \"dtype\": \"category\",\n        \"num_unique_values\": 7,\n        \"samples\": [\n          \"\\u05ea\\u05d7\\u05e0\\u05ea \\u05d1\\u05d9\\u05ea \\u05e9\\u05d0\\u05df \\u05e2\\u05de\\u05e7\\u05d9\\u05dd \\u05e6\\u05e4\\u05d5\\u05df\"\n        ],\n        \"semantic_type\": \"\",\n        \"description\": \"\"\n      }\n    },\n    {\n      \"column\": \"Settlement_Council\",\n      \"properties\": {\n        \"dtype\": \"category\",\n        \"num_unique_values\": 29,\n        \"samples\": [\n          \"\\u05db\\u05e4\\u05e8 \\u05ea\\u05d1\\u05d5\\u05e8\"\n        ],\n        \"semantic_type\": \"\",\n        \"description\": \"\"\n      }\n    },\n    {\n      \"column\": \"StatArea\",\n      \"properties\": {\n        \"dtype\": \"number\",\n        \"std\": 35329675.32827214,\n        \"min\": 260001.0,\n        \"max\": 92000004.0,\n        \"num_unique_values\": 94,\n        \"samples\": [\n          10610032.0\n        ],\n        \"semantic_type\": \"\",\n        \"description\": \"\"\n      }\n    },\n    {\n      \"column\": \"Quarter\",\n      \"properties\": {\n        \"dtype\": \"object\",\n        \"num_unique_values\": 21,\n        \"samples\": [\n          \"2021-Q2\"\n        ],\n        \"semantic_type\": \"\",\n        \"description\": \"\"\n      }\n    },\n    {\n      \"column\": \"StatisticCrimeGroup\",\n      \"properties\": {\n        \"dtype\": \"category\",\n        \"num_unique_values\": 15,\n        \"samples\": [\n          \"\\u05e2\\u05d1\\u05d9\\u05e8\\u05d5\\u05ea \\u05de\\u05e0\\u05d4\\u05dc\\u05d9\\u05d5\\u05ea\"\n        ],\n        \"semantic_type\": \"\",\n        \"description\": \"\"\n      }\n    },\n    {\n      \"column\": \"StatisticCrimeType\",\n      \"properties\": {\n        \"dtype\": \"category\",\n        \"num_unique_values\": 125,\n        \"samples\": [\n          \"\\u05e1\\u05d8\\u05d9\\u05e1\\u05d8\\u05d9 \\u05db\\u05dc \\u05d4\\u05e9\\u05d0\\u05e8\"\n        ],\n        \"semantic_type\": \"\",\n        \"description\": \"\"\n      }\n    },\n    {\n      \"column\": \"TikimSum\",\n      \"properties\": {\n        \"dtype\": \"number\",\n        \"std\": 18,\n        \"min\": 1,\n        \"max\": 662,\n        \"num_unique_values\": 152,\n        \"samples\": [\n          190\n        ],\n        \"semantic_type\": \"\",\n        \"description\": \"\"\n      }\n    }\n  ]\n}"
            }
          },
          "metadata": {},
          "execution_count": 6
        }
      ]
    },
    {
      "cell_type": "code",
      "source": [
        "# Save the dataset locally\n",
        "print('Saved local sub_dataset מרחב_עמקים_צפון')\n",
        "df_crimes.to_csv('sub_dataset_10.csv', index=False)"
      ],
      "metadata": {
        "colab": {
          "base_uri": "https://localhost:8080/"
        },
        "id": "vsfNITI-BDKs",
        "outputId": "26a30dbb-ed89-40e5-e0f2-9c64ad9fb3f3"
      },
      "execution_count": null,
      "outputs": [
        {
          "output_type": "stream",
          "name": "stdout",
          "text": [
            "Saved local sub_dataset מרחב_עמקים_צפון\n"
          ]
        }
      ]
    },
    {
      "cell_type": "code",
      "source": [
        "ls"
      ],
      "metadata": {
        "colab": {
          "base_uri": "https://localhost:8080/"
        },
        "id": "-tVFFln99rl4",
        "outputId": "89a6b11f-1567-438f-8b90-57604e366b88"
      },
      "execution_count": null,
      "outputs": [
        {
          "output_type": "stream",
          "name": "stdout",
          "text": [
            "\u001b[0m\u001b[01;34msample_data\u001b[0m/  sub_dataset_10.csv\n"
          ]
        }
      ]
    },
    {
      "cell_type": "markdown",
      "source": [
        "#Create panda's dataframe and SQL Lite dataset"
      ],
      "metadata": {
        "id": "1odJVQrC-mk-"
      }
    },
    {
      "cell_type": "code",
      "source": [
        "print(\"Data from crimes 2018 - 2023 \")\n",
        "df_crimes.head(7)"
      ],
      "metadata": {
        "id": "Q0eQaq10-n-l",
        "outputId": "100e2ed6-d9e8-44e7-9c07-c69105e22ea1",
        "colab": {
          "base_uri": "https://localhost:8080/",
          "height": 286
        }
      },
      "execution_count": null,
      "outputs": [
        {
          "output_type": "stream",
          "name": "stdout",
          "text": [
            "Data from crimes 2018 - 2023 \n"
          ]
        },
        {
          "output_type": "execute_result",
          "data": {
            "text/plain": [
              "                                ArealAttributionType PoliceDistrict  \\\n",
              "0  תיקים בטריטוריית תחנה שלא שוייכו לאזור סטטיסטי...      מחוז צפון   \n",
              "1  תיקים בטריטוריית תחנה שלא שוייכו לאזור סטטיסטי...      מחוז צפון   \n",
              "2  תיקים בטריטוריית תחנה שלא שוייכו לאזור סטטיסטי...      מחוז צפון   \n",
              "3  תיקים בטריטוריית תחנה שלא שוייכו לאזור סטטיסטי...      מחוז צפון   \n",
              "4         תיקים בישוב/מועצה שלא שוייכו לאזור סטטיסטי      מחוז צפון   \n",
              "5         תיקים בישוב/מועצה שלא שוייכו לאזור סטטיסטי      מחוז צפון   \n",
              "6         תיקים בישוב/מועצה שלא שוייכו לאזור סטטיסטי      מחוז צפון   \n",
              "\n",
              "      PoliceMerhav            PoliceStation Settlement_Council  StatArea  \\\n",
              "0  מרחב עמקים צפון  תחנת בית שאן עמקים צפון                NaN       NaN   \n",
              "1  מרחב עמקים צפון  תחנת בית שאן עמקים צפון                NaN       NaN   \n",
              "2  מרחב עמקים צפון  תחנת בית שאן עמקים צפון                NaN       NaN   \n",
              "3  מרחב עמקים צפון  תחנת בית שאן עמקים צפון                NaN       NaN   \n",
              "4  מרחב עמקים צפון  תחנת בית שאן עמקים צפון            בית שאן       NaN   \n",
              "5  מרחב עמקים צפון  תחנת בית שאן עמקים צפון            בית שאן       NaN   \n",
              "6  מרחב עמקים צפון  תחנת בית שאן עמקים צפון            בית שאן       NaN   \n",
              "\n",
              "   Quarter StatisticCrimeGroup StatisticCrimeType  TikimSum  \n",
              "0  2021-Q2                 NaN                NaN         1  \n",
              "1  2022-Q3                 NaN                NaN         3  \n",
              "2  2022-Q4                 NaN                NaN         2  \n",
              "3  2023-Q1                 NaN                NaN         1  \n",
              "4  2018-Q1                 NaN                NaN        50  \n",
              "5  2018-Q2                 NaN                NaN        36  \n",
              "6  2018-Q3                 NaN                NaN        39  "
            ],
            "text/html": [
              "\n",
              "  <div id=\"df-5b11225e-65dd-4886-85bb-3a7bb4f3a8e5\" class=\"colab-df-container\">\n",
              "    <div>\n",
              "<style scoped>\n",
              "    .dataframe tbody tr th:only-of-type {\n",
              "        vertical-align: middle;\n",
              "    }\n",
              "\n",
              "    .dataframe tbody tr th {\n",
              "        vertical-align: top;\n",
              "    }\n",
              "\n",
              "    .dataframe thead th {\n",
              "        text-align: right;\n",
              "    }\n",
              "</style>\n",
              "<table border=\"1\" class=\"dataframe\">\n",
              "  <thead>\n",
              "    <tr style=\"text-align: right;\">\n",
              "      <th></th>\n",
              "      <th>ArealAttributionType</th>\n",
              "      <th>PoliceDistrict</th>\n",
              "      <th>PoliceMerhav</th>\n",
              "      <th>PoliceStation</th>\n",
              "      <th>Settlement_Council</th>\n",
              "      <th>StatArea</th>\n",
              "      <th>Quarter</th>\n",
              "      <th>StatisticCrimeGroup</th>\n",
              "      <th>StatisticCrimeType</th>\n",
              "      <th>TikimSum</th>\n",
              "    </tr>\n",
              "  </thead>\n",
              "  <tbody>\n",
              "    <tr>\n",
              "      <th>0</th>\n",
              "      <td>תיקים בטריטוריית תחנה שלא שוייכו לאזור סטטיסטי...</td>\n",
              "      <td>מחוז צפון</td>\n",
              "      <td>מרחב עמקים צפון</td>\n",
              "      <td>תחנת בית שאן עמקים צפון</td>\n",
              "      <td>NaN</td>\n",
              "      <td>NaN</td>\n",
              "      <td>2021-Q2</td>\n",
              "      <td>NaN</td>\n",
              "      <td>NaN</td>\n",
              "      <td>1</td>\n",
              "    </tr>\n",
              "    <tr>\n",
              "      <th>1</th>\n",
              "      <td>תיקים בטריטוריית תחנה שלא שוייכו לאזור סטטיסטי...</td>\n",
              "      <td>מחוז צפון</td>\n",
              "      <td>מרחב עמקים צפון</td>\n",
              "      <td>תחנת בית שאן עמקים צפון</td>\n",
              "      <td>NaN</td>\n",
              "      <td>NaN</td>\n",
              "      <td>2022-Q3</td>\n",
              "      <td>NaN</td>\n",
              "      <td>NaN</td>\n",
              "      <td>3</td>\n",
              "    </tr>\n",
              "    <tr>\n",
              "      <th>2</th>\n",
              "      <td>תיקים בטריטוריית תחנה שלא שוייכו לאזור סטטיסטי...</td>\n",
              "      <td>מחוז צפון</td>\n",
              "      <td>מרחב עמקים צפון</td>\n",
              "      <td>תחנת בית שאן עמקים צפון</td>\n",
              "      <td>NaN</td>\n",
              "      <td>NaN</td>\n",
              "      <td>2022-Q4</td>\n",
              "      <td>NaN</td>\n",
              "      <td>NaN</td>\n",
              "      <td>2</td>\n",
              "    </tr>\n",
              "    <tr>\n",
              "      <th>3</th>\n",
              "      <td>תיקים בטריטוריית תחנה שלא שוייכו לאזור סטטיסטי...</td>\n",
              "      <td>מחוז צפון</td>\n",
              "      <td>מרחב עמקים צפון</td>\n",
              "      <td>תחנת בית שאן עמקים צפון</td>\n",
              "      <td>NaN</td>\n",
              "      <td>NaN</td>\n",
              "      <td>2023-Q1</td>\n",
              "      <td>NaN</td>\n",
              "      <td>NaN</td>\n",
              "      <td>1</td>\n",
              "    </tr>\n",
              "    <tr>\n",
              "      <th>4</th>\n",
              "      <td>תיקים בישוב/מועצה שלא שוייכו לאזור סטטיסטי</td>\n",
              "      <td>מחוז צפון</td>\n",
              "      <td>מרחב עמקים צפון</td>\n",
              "      <td>תחנת בית שאן עמקים צפון</td>\n",
              "      <td>בית שאן</td>\n",
              "      <td>NaN</td>\n",
              "      <td>2018-Q1</td>\n",
              "      <td>NaN</td>\n",
              "      <td>NaN</td>\n",
              "      <td>50</td>\n",
              "    </tr>\n",
              "    <tr>\n",
              "      <th>5</th>\n",
              "      <td>תיקים בישוב/מועצה שלא שוייכו לאזור סטטיסטי</td>\n",
              "      <td>מחוז צפון</td>\n",
              "      <td>מרחב עמקים צפון</td>\n",
              "      <td>תחנת בית שאן עמקים צפון</td>\n",
              "      <td>בית שאן</td>\n",
              "      <td>NaN</td>\n",
              "      <td>2018-Q2</td>\n",
              "      <td>NaN</td>\n",
              "      <td>NaN</td>\n",
              "      <td>36</td>\n",
              "    </tr>\n",
              "    <tr>\n",
              "      <th>6</th>\n",
              "      <td>תיקים בישוב/מועצה שלא שוייכו לאזור סטטיסטי</td>\n",
              "      <td>מחוז צפון</td>\n",
              "      <td>מרחב עמקים צפון</td>\n",
              "      <td>תחנת בית שאן עמקים צפון</td>\n",
              "      <td>בית שאן</td>\n",
              "      <td>NaN</td>\n",
              "      <td>2018-Q3</td>\n",
              "      <td>NaN</td>\n",
              "      <td>NaN</td>\n",
              "      <td>39</td>\n",
              "    </tr>\n",
              "  </tbody>\n",
              "</table>\n",
              "</div>\n",
              "    <div class=\"colab-df-buttons\">\n",
              "\n",
              "  <div class=\"colab-df-container\">\n",
              "    <button class=\"colab-df-convert\" onclick=\"convertToInteractive('df-5b11225e-65dd-4886-85bb-3a7bb4f3a8e5')\"\n",
              "            title=\"Convert this dataframe to an interactive table.\"\n",
              "            style=\"display:none;\">\n",
              "\n",
              "  <svg xmlns=\"http://www.w3.org/2000/svg\" height=\"24px\" viewBox=\"0 -960 960 960\">\n",
              "    <path d=\"M120-120v-720h720v720H120Zm60-500h600v-160H180v160Zm220 220h160v-160H400v160Zm0 220h160v-160H400v160ZM180-400h160v-160H180v160Zm440 0h160v-160H620v160ZM180-180h160v-160H180v160Zm440 0h160v-160H620v160Z\"/>\n",
              "  </svg>\n",
              "    </button>\n",
              "\n",
              "  <style>\n",
              "    .colab-df-container {\n",
              "      display:flex;\n",
              "      gap: 12px;\n",
              "    }\n",
              "\n",
              "    .colab-df-convert {\n",
              "      background-color: #E8F0FE;\n",
              "      border: none;\n",
              "      border-radius: 50%;\n",
              "      cursor: pointer;\n",
              "      display: none;\n",
              "      fill: #1967D2;\n",
              "      height: 32px;\n",
              "      padding: 0 0 0 0;\n",
              "      width: 32px;\n",
              "    }\n",
              "\n",
              "    .colab-df-convert:hover {\n",
              "      background-color: #E2EBFA;\n",
              "      box-shadow: 0px 1px 2px rgba(60, 64, 67, 0.3), 0px 1px 3px 1px rgba(60, 64, 67, 0.15);\n",
              "      fill: #174EA6;\n",
              "    }\n",
              "\n",
              "    .colab-df-buttons div {\n",
              "      margin-bottom: 4px;\n",
              "    }\n",
              "\n",
              "    [theme=dark] .colab-df-convert {\n",
              "      background-color: #3B4455;\n",
              "      fill: #D2E3FC;\n",
              "    }\n",
              "\n",
              "    [theme=dark] .colab-df-convert:hover {\n",
              "      background-color: #434B5C;\n",
              "      box-shadow: 0px 1px 3px 1px rgba(0, 0, 0, 0.15);\n",
              "      filter: drop-shadow(0px 1px 2px rgba(0, 0, 0, 0.3));\n",
              "      fill: #FFFFFF;\n",
              "    }\n",
              "  </style>\n",
              "\n",
              "    <script>\n",
              "      const buttonEl =\n",
              "        document.querySelector('#df-5b11225e-65dd-4886-85bb-3a7bb4f3a8e5 button.colab-df-convert');\n",
              "      buttonEl.style.display =\n",
              "        google.colab.kernel.accessAllowed ? 'block' : 'none';\n",
              "\n",
              "      async function convertToInteractive(key) {\n",
              "        const element = document.querySelector('#df-5b11225e-65dd-4886-85bb-3a7bb4f3a8e5');\n",
              "        const dataTable =\n",
              "          await google.colab.kernel.invokeFunction('convertToInteractive',\n",
              "                                                    [key], {});\n",
              "        if (!dataTable) return;\n",
              "\n",
              "        const docLinkHtml = 'Like what you see? Visit the ' +\n",
              "          '<a target=\"_blank\" href=https://colab.research.google.com/notebooks/data_table.ipynb>data table notebook</a>'\n",
              "          + ' to learn more about interactive tables.';\n",
              "        element.innerHTML = '';\n",
              "        dataTable['output_type'] = 'display_data';\n",
              "        await google.colab.output.renderOutput(dataTable, element);\n",
              "        const docLink = document.createElement('div');\n",
              "        docLink.innerHTML = docLinkHtml;\n",
              "        element.appendChild(docLink);\n",
              "      }\n",
              "    </script>\n",
              "  </div>\n",
              "\n",
              "\n",
              "<div id=\"df-5f925714-9158-4f56-b2b7-e08e9e9a4b47\">\n",
              "  <button class=\"colab-df-quickchart\" onclick=\"quickchart('df-5f925714-9158-4f56-b2b7-e08e9e9a4b47')\"\n",
              "            title=\"Suggest charts\"\n",
              "            style=\"display:none;\">\n",
              "\n",
              "<svg xmlns=\"http://www.w3.org/2000/svg\" height=\"24px\"viewBox=\"0 0 24 24\"\n",
              "     width=\"24px\">\n",
              "    <g>\n",
              "        <path d=\"M19 3H5c-1.1 0-2 .9-2 2v14c0 1.1.9 2 2 2h14c1.1 0 2-.9 2-2V5c0-1.1-.9-2-2-2zM9 17H7v-7h2v7zm4 0h-2V7h2v10zm4 0h-2v-4h2v4z\"/>\n",
              "    </g>\n",
              "</svg>\n",
              "  </button>\n",
              "\n",
              "<style>\n",
              "  .colab-df-quickchart {\n",
              "      --bg-color: #E8F0FE;\n",
              "      --fill-color: #1967D2;\n",
              "      --hover-bg-color: #E2EBFA;\n",
              "      --hover-fill-color: #174EA6;\n",
              "      --disabled-fill-color: #AAA;\n",
              "      --disabled-bg-color: #DDD;\n",
              "  }\n",
              "\n",
              "  [theme=dark] .colab-df-quickchart {\n",
              "      --bg-color: #3B4455;\n",
              "      --fill-color: #D2E3FC;\n",
              "      --hover-bg-color: #434B5C;\n",
              "      --hover-fill-color: #FFFFFF;\n",
              "      --disabled-bg-color: #3B4455;\n",
              "      --disabled-fill-color: #666;\n",
              "  }\n",
              "\n",
              "  .colab-df-quickchart {\n",
              "    background-color: var(--bg-color);\n",
              "    border: none;\n",
              "    border-radius: 50%;\n",
              "    cursor: pointer;\n",
              "    display: none;\n",
              "    fill: var(--fill-color);\n",
              "    height: 32px;\n",
              "    padding: 0;\n",
              "    width: 32px;\n",
              "  }\n",
              "\n",
              "  .colab-df-quickchart:hover {\n",
              "    background-color: var(--hover-bg-color);\n",
              "    box-shadow: 0 1px 2px rgba(60, 64, 67, 0.3), 0 1px 3px 1px rgba(60, 64, 67, 0.15);\n",
              "    fill: var(--button-hover-fill-color);\n",
              "  }\n",
              "\n",
              "  .colab-df-quickchart-complete:disabled,\n",
              "  .colab-df-quickchart-complete:disabled:hover {\n",
              "    background-color: var(--disabled-bg-color);\n",
              "    fill: var(--disabled-fill-color);\n",
              "    box-shadow: none;\n",
              "  }\n",
              "\n",
              "  .colab-df-spinner {\n",
              "    border: 2px solid var(--fill-color);\n",
              "    border-color: transparent;\n",
              "    border-bottom-color: var(--fill-color);\n",
              "    animation:\n",
              "      spin 1s steps(1) infinite;\n",
              "  }\n",
              "\n",
              "  @keyframes spin {\n",
              "    0% {\n",
              "      border-color: transparent;\n",
              "      border-bottom-color: var(--fill-color);\n",
              "      border-left-color: var(--fill-color);\n",
              "    }\n",
              "    20% {\n",
              "      border-color: transparent;\n",
              "      border-left-color: var(--fill-color);\n",
              "      border-top-color: var(--fill-color);\n",
              "    }\n",
              "    30% {\n",
              "      border-color: transparent;\n",
              "      border-left-color: var(--fill-color);\n",
              "      border-top-color: var(--fill-color);\n",
              "      border-right-color: var(--fill-color);\n",
              "    }\n",
              "    40% {\n",
              "      border-color: transparent;\n",
              "      border-right-color: var(--fill-color);\n",
              "      border-top-color: var(--fill-color);\n",
              "    }\n",
              "    60% {\n",
              "      border-color: transparent;\n",
              "      border-right-color: var(--fill-color);\n",
              "    }\n",
              "    80% {\n",
              "      border-color: transparent;\n",
              "      border-right-color: var(--fill-color);\n",
              "      border-bottom-color: var(--fill-color);\n",
              "    }\n",
              "    90% {\n",
              "      border-color: transparent;\n",
              "      border-bottom-color: var(--fill-color);\n",
              "    }\n",
              "  }\n",
              "</style>\n",
              "\n",
              "  <script>\n",
              "    async function quickchart(key) {\n",
              "      const quickchartButtonEl =\n",
              "        document.querySelector('#' + key + ' button');\n",
              "      quickchartButtonEl.disabled = true;  // To prevent multiple clicks.\n",
              "      quickchartButtonEl.classList.add('colab-df-spinner');\n",
              "      try {\n",
              "        const charts = await google.colab.kernel.invokeFunction(\n",
              "            'suggestCharts', [key], {});\n",
              "      } catch (error) {\n",
              "        console.error('Error during call to suggestCharts:', error);\n",
              "      }\n",
              "      quickchartButtonEl.classList.remove('colab-df-spinner');\n",
              "      quickchartButtonEl.classList.add('colab-df-quickchart-complete');\n",
              "    }\n",
              "    (() => {\n",
              "      let quickchartButtonEl =\n",
              "        document.querySelector('#df-5f925714-9158-4f56-b2b7-e08e9e9a4b47 button');\n",
              "      quickchartButtonEl.style.display =\n",
              "        google.colab.kernel.accessAllowed ? 'block' : 'none';\n",
              "    })();\n",
              "  </script>\n",
              "</div>\n",
              "\n",
              "    </div>\n",
              "  </div>\n"
            ],
            "application/vnd.google.colaboratory.intrinsic+json": {
              "type": "dataframe",
              "variable_name": "df_crimes",
              "summary": "{\n  \"name\": \"df_crimes\",\n  \"rows\": 25200,\n  \"fields\": [\n    {\n      \"column\": \"ArealAttributionType\",\n      \"properties\": {\n        \"dtype\": \"category\",\n        \"num_unique_values\": 3,\n        \"samples\": [\n          \"\\u05ea\\u05d9\\u05e7\\u05d9\\u05dd \\u05d1\\u05d8\\u05e8\\u05d9\\u05d8\\u05d5\\u05e8\\u05d9\\u05d9\\u05ea \\u05ea\\u05d7\\u05e0\\u05d4 \\u05e9\\u05dc\\u05d0 \\u05e9\\u05d5\\u05d9\\u05d9\\u05db\\u05d5 \\u05dc\\u05d0\\u05d6\\u05d5\\u05e8 \\u05e1\\u05d8\\u05d8\\u05d9\\u05e1\\u05d8\\u05d9, \\u05d0\\u05d5 \\u05dc\\u05d9\\u05e9\\u05d5\\u05d1/\\u05de\\u05d5\\u05e2\\u05e6\\u05d4\",\n          \"\\u05ea\\u05d9\\u05e7\\u05d9\\u05dd \\u05d1\\u05d9\\u05e9\\u05d5\\u05d1/\\u05de\\u05d5\\u05e2\\u05e6\\u05d4 \\u05e9\\u05dc\\u05d0 \\u05e9\\u05d5\\u05d9\\u05d9\\u05db\\u05d5 \\u05dc\\u05d0\\u05d6\\u05d5\\u05e8 \\u05e1\\u05d8\\u05d8\\u05d9\\u05e1\\u05d8\\u05d9\",\n          \"\\u05ea\\u05d9\\u05e7\\u05d9\\u05dd \\u05d1\\u05d0\\u05d6\\u05d5\\u05e8 \\u05e1\\u05d8\\u05d8\\u05d9\\u05e1\\u05d8\\u05d9\"\n        ],\n        \"semantic_type\": \"\",\n        \"description\": \"\"\n      }\n    },\n    {\n      \"column\": \"PoliceDistrict\",\n      \"properties\": {\n        \"dtype\": \"category\",\n        \"num_unique_values\": 1,\n        \"samples\": [\n          \"\\u05de\\u05d7\\u05d5\\u05d6 \\u05e6\\u05e4\\u05d5\\u05df\"\n        ],\n        \"semantic_type\": \"\",\n        \"description\": \"\"\n      }\n    },\n    {\n      \"column\": \"PoliceMerhav\",\n      \"properties\": {\n        \"dtype\": \"category\",\n        \"num_unique_values\": 1,\n        \"samples\": [\n          \"\\u05de\\u05e8\\u05d7\\u05d1 \\u05e2\\u05de\\u05e7\\u05d9\\u05dd \\u05e6\\u05e4\\u05d5\\u05df\"\n        ],\n        \"semantic_type\": \"\",\n        \"description\": \"\"\n      }\n    },\n    {\n      \"column\": \"PoliceStation\",\n      \"properties\": {\n        \"dtype\": \"category\",\n        \"num_unique_values\": 7,\n        \"samples\": [\n          \"\\u05ea\\u05d7\\u05e0\\u05ea \\u05d1\\u05d9\\u05ea \\u05e9\\u05d0\\u05df \\u05e2\\u05de\\u05e7\\u05d9\\u05dd \\u05e6\\u05e4\\u05d5\\u05df\"\n        ],\n        \"semantic_type\": \"\",\n        \"description\": \"\"\n      }\n    },\n    {\n      \"column\": \"Settlement_Council\",\n      \"properties\": {\n        \"dtype\": \"category\",\n        \"num_unique_values\": 29,\n        \"samples\": [\n          \"\\u05db\\u05e4\\u05e8 \\u05ea\\u05d1\\u05d5\\u05e8\"\n        ],\n        \"semantic_type\": \"\",\n        \"description\": \"\"\n      }\n    },\n    {\n      \"column\": \"StatArea\",\n      \"properties\": {\n        \"dtype\": \"number\",\n        \"std\": 35329675.32827214,\n        \"min\": 260001.0,\n        \"max\": 92000004.0,\n        \"num_unique_values\": 94,\n        \"samples\": [\n          10610032.0\n        ],\n        \"semantic_type\": \"\",\n        \"description\": \"\"\n      }\n    },\n    {\n      \"column\": \"Quarter\",\n      \"properties\": {\n        \"dtype\": \"object\",\n        \"num_unique_values\": 21,\n        \"samples\": [\n          \"2021-Q2\"\n        ],\n        \"semantic_type\": \"\",\n        \"description\": \"\"\n      }\n    },\n    {\n      \"column\": \"StatisticCrimeGroup\",\n      \"properties\": {\n        \"dtype\": \"category\",\n        \"num_unique_values\": 15,\n        \"samples\": [\n          \"\\u05e2\\u05d1\\u05d9\\u05e8\\u05d5\\u05ea \\u05de\\u05e0\\u05d4\\u05dc\\u05d9\\u05d5\\u05ea\"\n        ],\n        \"semantic_type\": \"\",\n        \"description\": \"\"\n      }\n    },\n    {\n      \"column\": \"StatisticCrimeType\",\n      \"properties\": {\n        \"dtype\": \"category\",\n        \"num_unique_values\": 125,\n        \"samples\": [\n          \"\\u05e1\\u05d8\\u05d9\\u05e1\\u05d8\\u05d9 \\u05db\\u05dc \\u05d4\\u05e9\\u05d0\\u05e8\"\n        ],\n        \"semantic_type\": \"\",\n        \"description\": \"\"\n      }\n    },\n    {\n      \"column\": \"TikimSum\",\n      \"properties\": {\n        \"dtype\": \"number\",\n        \"std\": 18,\n        \"min\": 1,\n        \"max\": 662,\n        \"num_unique_values\": 152,\n        \"samples\": [\n          190\n        ],\n        \"semantic_type\": \"\",\n        \"description\": \"\"\n      }\n    }\n  ]\n}"
            }
          },
          "metadata": {},
          "execution_count": 9
        }
      ]
    },
    {
      "cell_type": "markdown",
      "source": [],
      "metadata": {
        "id": "cMBGzOkaFXof"
      }
    },
    {
      "cell_type": "code",
      "source": [
        "ls"
      ],
      "metadata": {
        "colab": {
          "base_uri": "https://localhost:8080/"
        },
        "id": "_Ba91JVP9CQl",
        "outputId": "9850762c-ffc2-43fc-d15f-a8e79f65d45d"
      },
      "execution_count": null,
      "outputs": [
        {
          "output_type": "stream",
          "name": "stdout",
          "text": [
            "\u001b[0m\u001b[01;34msample_data\u001b[0m/  sub_dataset_10.csv\n"
          ]
        }
      ]
    },
    {
      "cell_type": "markdown",
      "source": [
        "#Step 2: Create SQL Data Base\n",
        "\n",
        "\n"
      ],
      "metadata": {
        "id": "BsByOHiVwiWF"
      }
    },
    {
      "cell_type": "code",
      "source": [
        "import sqlite3\n",
        "import pandas as pd"
      ],
      "metadata": {
        "id": "0bozIDYj9O_x"
      },
      "execution_count": null,
      "outputs": []
    },
    {
      "cell_type": "code",
      "source": [
        "\n",
        "# Create a connection to the SQLite database\n",
        "conn = sqlite3.connect('crimes_data.db')\n",
        "\n",
        "# Load the dataframe (replace with your actual dataframe)\n",
        "df_crimes = pd.read_csv('sub_dataset_10.csv')\n",
        "\n",
        "# Write the dataframe to a SQL table\n",
        "df_crimes.to_sql('crimes_data', conn, if_exists='replace', index=False)\n",
        "\n",
        "# Verify by listing all tables\n",
        "query = \"SELECT name FROM sqlite_master WHERE type='table';\"\n",
        "tables = pd.read_sql_query(query, conn)\n",
        "print(\"Tables in the database:\")\n",
        "print(tables)\n",
        "\n",
        "\n",
        "# Close the connection\n",
        "conn.close()\n"
      ],
      "metadata": {
        "colab": {
          "base_uri": "https://localhost:8080/"
        },
        "id": "oahoWCRuCDar",
        "outputId": "6357a5a6-177f-4265-ba26-4a0bb31795ee"
      },
      "execution_count": null,
      "outputs": [
        {
          "output_type": "stream",
          "name": "stdout",
          "text": [
            "Tables in the database:\n",
            "          name\n",
            "0  crimes_data\n"
          ]
        }
      ]
    },
    {
      "cell_type": "code",
      "source": [
        "# Create a connection to the SQLite database\n",
        "conn = sqlite3.connect('crimes_data.db')\n",
        "\n",
        "# Example: Query data from the table\n",
        "query = 'SELECT * FROM crimes_data LIMIT 5'\n",
        "result = pd.read_sql_query(query, conn)\n",
        "print(\"Data from table crimes_data:\")\n",
        "print(result)\n",
        "\n",
        "# Close the connection\n",
        "conn.close()"
      ],
      "metadata": {
        "colab": {
          "base_uri": "https://localhost:8080/"
        },
        "id": "7OrrW-PX4S1P",
        "outputId": "b988b1d9-d70c-4ba7-981e-f1e93a032998"
      },
      "execution_count": null,
      "outputs": [
        {
          "output_type": "stream",
          "name": "stdout",
          "text": [
            "Data from table crimes_data:\n",
            "                                ArealAttributionType PoliceDistrict  \\\n",
            "0  תיקים בטריטוריית תחנה שלא שוייכו לאזור סטטיסטי...      מחוז צפון   \n",
            "1  תיקים בטריטוריית תחנה שלא שוייכו לאזור סטטיסטי...      מחוז צפון   \n",
            "2  תיקים בטריטוריית תחנה שלא שוייכו לאזור סטטיסטי...      מחוז צפון   \n",
            "3  תיקים בטריטוריית תחנה שלא שוייכו לאזור סטטיסטי...      מחוז צפון   \n",
            "4         תיקים בישוב/מועצה שלא שוייכו לאזור סטטיסטי      מחוז צפון   \n",
            "\n",
            "      PoliceMerhav            PoliceStation Settlement_Council StatArea  \\\n",
            "0  מרחב עמקים צפון  תחנת בית שאן עמקים צפון               None     None   \n",
            "1  מרחב עמקים צפון  תחנת בית שאן עמקים צפון               None     None   \n",
            "2  מרחב עמקים צפון  תחנת בית שאן עמקים צפון               None     None   \n",
            "3  מרחב עמקים צפון  תחנת בית שאן עמקים צפון               None     None   \n",
            "4  מרחב עמקים צפון  תחנת בית שאן עמקים צפון            בית שאן     None   \n",
            "\n",
            "   Quarter StatisticCrimeGroup StatisticCrimeType  TikimSum  \n",
            "0  2021-Q2                None               None         1  \n",
            "1  2022-Q3                None               None         3  \n",
            "2  2022-Q4                None               None         2  \n",
            "3  2023-Q1                None               None         1  \n",
            "4  2018-Q1                None               None        50  \n"
          ]
        }
      ]
    },
    {
      "cell_type": "code",
      "source": [
        "# Create a connection to the SQLite database\n",
        "conn = sqlite3.connect('crimes_data.db')\n",
        "\n",
        "# Query\n",
        "query = \"PRAGMA table_info(crimes_data);\"\n",
        "\n",
        "result = pd.read_sql_query(query, conn)\n",
        "print(\"Data from table crimes_data:\")\n",
        "print(result)\n",
        "\n",
        "# Close the connection\n",
        "conn.close()"
      ],
      "metadata": {
        "colab": {
          "base_uri": "https://localhost:8080/"
        },
        "id": "_AQN_Cv0AK-L",
        "outputId": "f03b96de-0d61-415e-d3f1-385ce6f66c16"
      },
      "execution_count": null,
      "outputs": [
        {
          "output_type": "stream",
          "name": "stdout",
          "text": [
            "Data from table crimes_data:\n",
            "   cid                  name     type  notnull dflt_value  pk\n",
            "0    0  ArealAttributionType     TEXT        0       None   0\n",
            "1    1        PoliceDistrict     TEXT        0       None   0\n",
            "2    2          PoliceMerhav     TEXT        0       None   0\n",
            "3    3         PoliceStation     TEXT        0       None   0\n",
            "4    4    Settlement_Council     TEXT        0       None   0\n",
            "5    5              StatArea     REAL        0       None   0\n",
            "6    6               Quarter     TEXT        0       None   0\n",
            "7    7   StatisticCrimeGroup     TEXT        0       None   0\n",
            "8    8    StatisticCrimeType     TEXT        0       None   0\n",
            "9    9              TikimSum  INTEGER        0       None   0\n"
          ]
        }
      ]
    },
    {
      "cell_type": "code",
      "source": [
        "ls"
      ],
      "metadata": {
        "colab": {
          "base_uri": "https://localhost:8080/"
        },
        "id": "J918sToc9Is6",
        "outputId": "d54ff7fb-eb9f-40b0-e916-d9ecc45747b9"
      },
      "execution_count": null,
      "outputs": [
        {
          "output_type": "stream",
          "name": "stdout",
          "text": [
            "crimes_data.db  \u001b[0m\u001b[01;34msample_data\u001b[0m/  sub_dataset_10.csv\n"
          ]
        }
      ]
    },
    {
      "cell_type": "markdown",
      "source": [
        "#Step 3: Investigate SQL Data Base Table"
      ],
      "metadata": {
        "id": "AULuhi8X_O1g"
      }
    },
    {
      "cell_type": "code",
      "source": [
        "# Create a connection to the SQLite database\n",
        "conn = sqlite3.connect('crimes_data.db')\n",
        "\n",
        "# Query data from the table\n",
        "query = 'SELECT DISTINCT ArealAttributionType FROM crimes_data'\n",
        "\n",
        "# Result\n",
        "result = pd.read_sql_query(query, conn)\n",
        "print(\"Data from table crimes_data:\")\n",
        "print(result)\n",
        "\n",
        "# Close the connection\n",
        "conn.close()"
      ],
      "metadata": {
        "colab": {
          "base_uri": "https://localhost:8080/"
        },
        "id": "XaltfTnEC9bs",
        "outputId": "2bb6e2bf-be27-4907-b373-b31b0d33dfc4"
      },
      "execution_count": null,
      "outputs": [
        {
          "output_type": "stream",
          "name": "stdout",
          "text": [
            "Data from table crimes_data:\n",
            "                                ArealAttributionType\n",
            "0  תיקים בטריטוריית תחנה שלא שוייכו לאזור סטטיסטי...\n",
            "1         תיקים בישוב/מועצה שלא שוייכו לאזור סטטיסטי\n",
            "2                                תיקים באזור סטטיסטי\n"
          ]
        }
      ]
    },
    {
      "cell_type": "code",
      "source": [
        "# Create a connection to the SQLite database\n",
        "conn = sqlite3.connect('crimes_data.db')\n",
        "\n",
        "# Example: Query data from the table\n",
        "query = 'SELECT COUNT(*) FROM crimes_data GROUP BY ArealAttributionType'\n",
        "\n",
        "# Result\n",
        "result = pd.read_sql_query(query, conn)\n",
        "print(\"Data from table crimes_data:\")\n",
        "print(result)\n",
        "\n",
        "# Close the connection\n",
        "conn.close()"
      ],
      "metadata": {
        "colab": {
          "base_uri": "https://localhost:8080/"
        },
        "id": "UXcGAbwQ-CYK",
        "outputId": "09fe653f-0c94-4208-d1ee-0f744bd1ae60"
      },
      "execution_count": null,
      "outputs": [
        {
          "output_type": "stream",
          "name": "stdout",
          "text": [
            "Data from table crimes_data:\n",
            "   COUNT(*)\n",
            "0     20060\n",
            "1         5\n",
            "2      5135\n"
          ]
        }
      ]
    },
    {
      "cell_type": "code",
      "source": [
        "# Create a connection to the SQLite database\n",
        "conn = sqlite3.connect('crimes_data.db')\n",
        "\n",
        "# Query data from the table\n",
        "query = 'SELECT DISTINCT PoliceDistrict FROM crimes_data'\n",
        "\n",
        "# Result\n",
        "result = pd.read_sql_query(query, conn)\n",
        "print(\"Data from table crimes_data:\")\n",
        "print(result)\n",
        "\n",
        "# Close the connection\n",
        "conn.close()"
      ],
      "metadata": {
        "colab": {
          "base_uri": "https://localhost:8080/"
        },
        "id": "eixEIfiiBpKO",
        "outputId": "d49f8d8e-587f-428f-980d-edbf288c6413"
      },
      "execution_count": null,
      "outputs": [
        {
          "output_type": "stream",
          "name": "stdout",
          "text": [
            "Data from table crimes_data:\n",
            "  PoliceDistrict\n",
            "0      מחוז צפון\n"
          ]
        }
      ]
    },
    {
      "cell_type": "code",
      "source": [
        "# Create a connection to the SQLite database\n",
        "conn = sqlite3.connect('crimes_data.db')\n",
        "\n",
        "# Query data from the table\n",
        "query = 'SELECT DISTINCT PoliceMerhav FROM crimes_data'\n",
        "\n",
        "# Result\n",
        "result = pd.read_sql_query(query, conn)\n",
        "print(\"Data from table crimes_data:\")\n",
        "print(result)\n",
        "\n",
        "# Close the connection\n",
        "conn.close()"
      ],
      "metadata": {
        "colab": {
          "base_uri": "https://localhost:8080/"
        },
        "id": "5tedwcVDBzfM",
        "outputId": "f4408839-137c-405d-efc4-81b50f04741f"
      },
      "execution_count": null,
      "outputs": [
        {
          "output_type": "stream",
          "name": "stdout",
          "text": [
            "Data from table crimes_data:\n",
            "      PoliceMerhav\n",
            "0  מרחב עמקים צפון\n"
          ]
        }
      ]
    },
    {
      "cell_type": "code",
      "source": [
        "# Create a connection to the SQLite database\n",
        "conn = sqlite3.connect('crimes_data.db')\n",
        "\n",
        "# Query data from the table\n",
        "query = 'SELECT DISTINCT PoliceStation FROM crimes_data'\n",
        "\n",
        "# Result\n",
        "result = pd.read_sql_query(query, conn)\n",
        "print(\"Data from table crimes_data:\")\n",
        "print(result)\n",
        "\n",
        "# Close the connection\n",
        "conn.close()"
      ],
      "metadata": {
        "colab": {
          "base_uri": "https://localhost:8080/"
        },
        "id": "P8hMPzV8B_Om",
        "outputId": "a4b8c752-3577-4ae2-87c2-0d0265f6047a"
      },
      "execution_count": null,
      "outputs": [
        {
          "output_type": "stream",
          "name": "stdout",
          "text": [
            "Data from table crimes_data:\n",
            "               PoliceStation\n",
            "0    תחנת בית שאן עמקים צפון\n",
            "1    תחנת כפר כנא עמקים צפון\n",
            "2  תחנת מגדל העמק עמקים צפון\n",
            "3  תחנת נוף הגליל עמקים צפון\n",
            "4       תחנת נצרת עמקים צפון\n",
            "5      תחנת עפולה עמקים צפון\n",
            "6             תחנת תבור צפון\n"
          ]
        }
      ]
    },
    {
      "cell_type": "code",
      "source": [
        "# Create a connection to the SQLite database\n",
        "conn = sqlite3.connect('crimes_data.db')\n",
        "\n",
        "# Query data from the table\n",
        "query = 'SELECT DISTINCT Settlement_Council FROM crimes_data'\n",
        "\n",
        "# Result\n",
        "result = pd.read_sql_query(query, conn)\n",
        "print(\"Data from table crimes_data:\")\n",
        "print(result)\n",
        "\n",
        "# Close the connection\n",
        "conn.close()"
      ],
      "metadata": {
        "colab": {
          "base_uri": "https://localhost:8080/"
        },
        "id": "WqSRFSsXCO-l",
        "outputId": "5eac7ac3-82f3-4d35-9174-dd5cfee1e023"
      },
      "execution_count": null,
      "outputs": [
        {
          "output_type": "stream",
          "name": "stdout",
          "text": [
            "Data from table crimes_data:\n",
            "            Settlement_Council\n",
            "0                         None\n",
            "1                      בית שאן\n",
            "2          מועצה אזורית הגלבוע\n",
            "3    מועצה אזורית עמק המעיינות\n",
            "4                     מקום אחר\n",
            "5                       טורעאן\n",
            "6                      כפר כנא\n",
            "7         מועצה אזורית אל-בטוף\n",
            "8    מועצה אזורית הגליל התחתון\n",
            "9      מועצה אזורית עמק יזרעאל\n",
            "10                        משהד\n",
            "11                   נוף הגליל\n",
            "12                       זרזיר\n",
            "13                 יקנעם עילית\n",
            "14         כעביה טבאש חג'אג'רה\n",
            "15                   מגדל העמק\n",
            "16          מועצה אזורית מגידו\n",
            "17                    ראש פינה\n",
            "18                     רמת ישי\n",
            "19                    עין מאהל\n",
            "20                        יפיע\n",
            "21                        נצרת\n",
            "22                       עילוט\n",
            "23                       ריינה\n",
            "24  מועצה אזורית בוסתן-אל-מרג'\n",
            "25                       עפולה\n",
            "26                       אכסאל\n",
            "27                      דבוריה\n",
            "28                    כפר תבור\n",
            "29                        שבלי\n"
          ]
        }
      ]
    },
    {
      "cell_type": "code",
      "source": [
        "# Create a connection to the SQLite database\n",
        "conn = sqlite3.connect('crimes_data.db')\n",
        "\n",
        "# Query data from the table\n",
        "query = 'SELECT Settlement_Council, COUNT(*) FROM crimes_data GROUP BY Settlement_Council'\n",
        "\n",
        "# Result\n",
        "result = pd.read_sql_query(query, conn)\n",
        "print(\"Data from table crimes_data:\")\n",
        "print(result)\n",
        "\n",
        "# Close the connection\n",
        "conn.close()"
      ],
      "metadata": {
        "colab": {
          "base_uri": "https://localhost:8080/"
        },
        "id": "LqFvItFtCs-Q",
        "outputId": "58a05dbc-2cf0-433b-c503-ed668a928422"
      },
      "execution_count": null,
      "outputs": [
        {
          "output_type": "stream",
          "name": "stdout",
          "text": [
            "Data from table crimes_data:\n",
            "            Settlement_Council  COUNT(*)\n",
            "0                         None         5\n",
            "1                        אכסאל        23\n",
            "2                      בית שאן      1654\n",
            "3                       דבוריה       501\n",
            "4                        זרזיר       520\n",
            "5                       טורעאן        40\n",
            "6                         יפיע       132\n",
            "7                  יקנעם עילית      1503\n",
            "8          כעביה טבאש חג'אג'רה       339\n",
            "9                      כפר כנא        35\n",
            "10                    כפר תבור       237\n",
            "11                   מגדל העמק      2347\n",
            "12        מועצה אזורית אל-בטוף       300\n",
            "13  מועצה אזורית בוסתן-אל-מרג'       504\n",
            "14         מועצה אזורית הגלבוע      1029\n",
            "15   מועצה אזורית הגליל התחתון       137\n",
            "16          מועצה אזורית מגידו       594\n",
            "17   מועצה אזורית עמק המעיינות       602\n",
            "18     מועצה אזורית עמק יזרעאל      1580\n",
            "19                    מקום אחר       141\n",
            "20                        משהד       345\n",
            "21                   נוף הגליל      4694\n",
            "22                        נצרת      2070\n",
            "23                       עילוט       371\n",
            "24                    עין מאהל        27\n",
            "25                       עפולה      4601\n",
            "26                    ראש פינה         2\n",
            "27                       ריינה        40\n",
            "28                     רמת ישי       403\n",
            "29                        שבלי       424\n"
          ]
        }
      ]
    },
    {
      "cell_type": "code",
      "source": [
        "# Create a connection to the SQLite database\n",
        "conn = sqlite3.connect('crimes_data.db')\n",
        "\n",
        "# Query data from the table\n",
        "query = 'SELECT DISTINCT StatArea FROM crimes_data'\n",
        "\n",
        "# Result\n",
        "result = pd.read_sql_query(query, conn)\n",
        "print(\"Data from table crimes_data:\")\n",
        "print(result)\n",
        "\n",
        "# Close the connection\n",
        "conn.close()"
      ],
      "metadata": {
        "colab": {
          "base_uri": "https://localhost:8080/"
        },
        "id": "LRkSRIgIHH3d",
        "outputId": "07db94be-611f-415d-918b-07572b2275f5"
      },
      "execution_count": null,
      "outputs": [
        {
          "output_type": "stream",
          "name": "stdout",
          "text": [
            "Data from table crimes_data:\n",
            "      StatArea\n",
            "0          NaN\n",
            "1   92000001.0\n",
            "2   92000002.0\n",
            "3   92000003.0\n",
            "4   92000004.0\n",
            "..         ...\n",
            "90  77000026.0\n",
            "91   4780002.0\n",
            "92   4890001.0\n",
            "93    470001.0\n",
            "94   9130001.0\n",
            "\n",
            "[95 rows x 1 columns]\n"
          ]
        }
      ]
    },
    {
      "cell_type": "code",
      "source": [
        "# Create a connection to the SQLite database\n",
        "conn = sqlite3.connect('crimes_data.db')\n",
        "\n",
        "# Query data from the table\n",
        "query = 'SELECT DISTINCT Quarter FROM crimes_data'\n",
        "\n",
        "# Result\n",
        "result = pd.read_sql_query(query, conn)\n",
        "print(\"Data from table crimes_data:\")\n",
        "print(result)\n",
        "\n",
        "# Close the connection\n",
        "conn.close()"
      ],
      "metadata": {
        "colab": {
          "base_uri": "https://localhost:8080/"
        },
        "id": "IFlkb7SzHa5b",
        "outputId": "0a4ef2e1-7992-4189-e156-7055eaa29532"
      },
      "execution_count": null,
      "outputs": [
        {
          "output_type": "stream",
          "name": "stdout",
          "text": [
            "Data from table crimes_data:\n",
            "    Quarter\n",
            "0   2021-Q2\n",
            "1   2022-Q3\n",
            "2   2022-Q4\n",
            "3   2023-Q1\n",
            "4   2018-Q1\n",
            "5   2018-Q2\n",
            "6   2018-Q3\n",
            "7   2018-Q4\n",
            "8   2019-Q1\n",
            "9   2019-Q4\n",
            "10  2020-Q1\n",
            "11  2020-Q2\n",
            "12  2020-Q3\n",
            "13  2020-Q4\n",
            "14  2021-Q1\n",
            "15  2021-Q3\n",
            "16  2021-Q4\n",
            "17  2022-Q1\n",
            "18  2022-Q2\n",
            "19  2019-Q2\n",
            "20  2019-Q3\n"
          ]
        }
      ]
    },
    {
      "cell_type": "code",
      "source": [
        "# Create a connection to the SQLite database\n",
        "conn = sqlite3.connect('crimes_data.db')\n",
        "\n",
        "# Query data from the table\n",
        "query = 'SELECT DISTINCT StatisticCrimeGroup FROM crimes_data'\n",
        "\n",
        "# Result\n",
        "result = pd.read_sql_query(query, conn)\n",
        "print(\"Data from table crimes_data:\")\n",
        "print(result)\n",
        "\n",
        "# Close the connection\n",
        "conn.close()"
      ],
      "metadata": {
        "colab": {
          "base_uri": "https://localhost:8080/"
        },
        "id": "Qw3pOapHH232",
        "outputId": "ea9b126b-d64d-4a56-bda4-d5bbe654f63f"
      },
      "execution_count": null,
      "outputs": [
        {
          "output_type": "stream",
          "name": "stdout",
          "text": [
            "Data from table crimes_data:\n",
            "   StatisticCrimeGroup\n",
            "0                 None\n",
            "1    עבירות כלפי המוסר\n",
            "2    עבירות כלפי הרכוש\n",
            "3       עבירות נגד גוף\n",
            "4    עבירות סדר ציבורי\n",
            "5         עבירות תנועה\n",
            "6        קבוצת כל השאר\n",
            "7          עבירות מרמה\n",
            "8          עבירות רשוי\n",
            "9           עבירות מין\n",
            "10      עבירות מנהליות\n",
            "11      עבירות כלכליות\n",
            "12          שאר עבירות\n",
            "13        עבירות בטחון\n",
            "14      עבירות נגד אדם\n",
            "15         סעיפי הגדרה\n"
          ]
        }
      ]
    },
    {
      "cell_type": "code",
      "source": [
        "# Create a connection to the SQLite database\n",
        "conn = sqlite3.connect('crimes_data.db')\n",
        "\n",
        "# Query data from the table\n",
        "query = 'SELECT DISTINCT StatisticCrimeType FROM crimes_data'\n",
        "\n",
        "# Result\n",
        "result = pd.read_sql_query(query, conn)\n",
        "print(\"Data from table crimes_data:\")\n",
        "print(result)\n",
        "\n",
        "# Close the connection\n",
        "conn.close()"
      ],
      "metadata": {
        "colab": {
          "base_uri": "https://localhost:8080/"
        },
        "id": "QtANq5RxIMj4",
        "outputId": "142a0da3-af90-4738-fe98-4c530254f28d"
      },
      "execution_count": null,
      "outputs": [
        {
          "output_type": "stream",
          "name": "stdout",
          "text": [
            "Data from table crimes_data:\n",
            "              StatisticCrimeType\n",
            "0                           None\n",
            "1    החזקת סמים שלא לצריכה עצמית\n",
            "2            סחר,יבוא ויצוא סמים\n",
            "3             שמוש בסמים מסוכנים\n",
            "4                   גניבות אחרות\n",
            "..                           ...\n",
            "121                  עבירות מרמה\n",
            "122                  בגידה ורגול\n",
            "123                  עבירות רשוי\n",
            "124     עינוגים ושעשועים צבוריים\n",
            "125     אי ציות לתמרור הוריה אחר\n",
            "\n",
            "[126 rows x 1 columns]\n"
          ]
        }
      ]
    },
    {
      "cell_type": "markdown",
      "source": [
        "# Create a connection to the SQLite database\n",
        "conn = sqlite3.connect('crimes_data.db')\n",
        "\n",
        "# Query data from the table\n",
        "query = 'SELECT StatisticCrimeType, SUM(TikimSum) AS TotalCrimes FROM CrimeData GROUP BY StatisticCrimeType ORDER BY TotalCrimes DESC; '\n",
        "\n",
        "# Result\n",
        "result = pd.read_sql_query(query, conn)\n",
        "print(\"Data from table crimes_data:\")\n",
        "print(result)\n",
        "\n",
        "# Close the connection\n",
        "conn.close()"
      ],
      "metadata": {
        "id": "0C1XyvE3Ijj6"
      }
    },
    {
      "cell_type": "markdown",
      "source": [
        "#Step 3: Query SQL Data Base\n"
      ],
      "metadata": {
        "id": "vU3ky9iiGUcD"
      }
    },
    {
      "cell_type": "code",
      "source": [
        "# Create a connection to the SQLite database\n",
        "conn = sqlite3.connect('crimes_data.db')\n",
        "\n",
        "# Query data from the table\n",
        "query = 'SELECT StatisticCrimeGroup, Quarter, StatisticCrimeType, TikimSum FROM crimes_data WHERE StatisticCrimeGroup=\"עבירות סדר ציבורי\" ORDER BY TikimSum DESC'\n",
        "\n",
        "# Result\n",
        "result = pd.read_sql_query(query, conn)\n",
        "print(\"Data from table crimes_data:\")\n",
        "print(result)\n",
        "\n",
        "# Close the connection\n",
        "conn.close()"
      ],
      "metadata": {
        "colab": {
          "base_uri": "https://localhost:8080/"
        },
        "id": "Uyqi40nYLv1S",
        "outputId": "83cd753f-270a-4d6d-916c-5a056b18c6f8"
      },
      "execution_count": null,
      "outputs": [
        {
          "output_type": "stream",
          "name": "stdout",
          "text": [
            "Data from table crimes_data:\n",
            "     StatisticCrimeGroup  Quarter            StatisticCrimeType  TikimSum\n",
            "0      עבירות סדר ציבורי  2019-Q4                        איומים        44\n",
            "1      עבירות סדר ציבורי  2023-Q1   עבירות על חוק הכניסה לישראל        44\n",
            "2      עבירות סדר ציבורי  2021-Q2   עבירות על חוק הכניסה לישראל        43\n",
            "3      עבירות סדר ציבורי  2021-Q4   עבירות על חוק הכניסה לישראל        43\n",
            "4      עבירות סדר ציבורי  2018-Q4                        איומים        42\n",
            "...                  ...      ...                           ...       ...\n",
            "7723   עבירות סדר ציבורי  2022-Q3                    הסגות גבול         1\n",
            "7724   עבירות סדר ציבורי  2022-Q4     עבירות הנוגעות לנחלת משפט         1\n",
            "7725   עבירות סדר ציבורי  2022-Q4   עבירות על חוק הכניסה לישראל         1\n",
            "7726   עבירות סדר ציבורי  2023-Q1  נשיאה וייצור סכינים ופגיונות         1\n",
            "7727   עבירות סדר ציבורי  2023-Q1             תקיפת והכשלת שוטר         1\n",
            "\n",
            "[7728 rows x 4 columns]\n"
          ]
        }
      ]
    },
    {
      "cell_type": "code",
      "source": [
        "# Create a connection to the SQLite database\n",
        "conn = sqlite3.connect('crimes_data.db')\n",
        "# 3.1 код показывает топ 10 самых популярных преступлений за все время\n",
        "# Query data from the table\n",
        "query = 'SELECT StatisticCrimeType, SUM(TikimSum) AS TotalCrimes FROM crimes_data GROUP BY StatisticCrimeType ORDER BY TotalCrimes DESC LIMIT 10'\n",
        "\n",
        "\n",
        "# Result\n",
        "result = pd.read_sql_query(query, conn)\n",
        "print(\"Data from table crimes_data:\")\n",
        "print(result)\n",
        "\n",
        "# Close the connection\n",
        "conn.close()"
      ],
      "metadata": {
        "colab": {
          "base_uri": "https://localhost:8080/"
        },
        "id": "9Zo_i4HKrnfA",
        "outputId": "c81e00b0-8e61-4312-9396-8509583bf7b2"
      },
      "execution_count": null,
      "outputs": [
        {
          "output_type": "stream",
          "name": "stdout",
          "text": [
            "Data from table crimes_data:\n",
            "            StatisticCrimeType  TotalCrimes\n",
            "0                         None        29483\n",
            "1                       איומים        11965\n",
            "2     (תקיפה (למעט עובדי ציבור         8661\n",
            "3        גרימת נזק לרכוש בזדון         6578\n",
            "4                 גניבות אחרות         5759\n",
            "5           שמוש בסמים מסוכנים         5618\n",
            "6       עבירות נגד הסדר הצבורי         4971\n",
            "7    עבירות הנוגעות לנחלת משפט         3801\n",
            "8               סטיסטי כל השאר         3315\n",
            "9  עבירות על חוק הכניסה לישראל         2573\n"
          ]
        }
      ]
    },
    {
      "cell_type": "code",
      "source": [
        "# Create a connection to the SQLite database\n",
        "conn = sqlite3.connect('crimes_data.db')\n",
        "# 3.1 код показывает топ 10 самых популярных преступлений за все время\n",
        "# Query data from the table\n",
        "query = 'SELECT StatisticCrimeType, SUM(TikimSum) AS TotalCrimes FROM crimes_data GROUP BY StatisticCrimeType ORDER BY TotalCrimes DESC LIMIT 10'\n",
        "\n",
        "\n",
        "# Result\n",
        "result = pd.read_sql_query(query, conn)\n",
        "print(\"Data from table crimes_data:\")\n",
        "print(result)\n",
        "\n",
        "# Close the connection\n",
        "conn.close()"
      ],
      "metadata": {
        "colab": {
          "base_uri": "https://localhost:8080/"
        },
        "id": "wDOAI0FJydo-",
        "outputId": "f0d27ccc-2daf-4547-b597-4826e9399f86"
      },
      "execution_count": null,
      "outputs": [
        {
          "output_type": "stream",
          "name": "stdout",
          "text": [
            "Data from table crimes_data:\n",
            "            StatisticCrimeType  TotalCrimes\n",
            "0                         None        29483\n",
            "1                       איומים        11965\n",
            "2     (תקיפה (למעט עובדי ציבור         8661\n",
            "3        גרימת נזק לרכוש בזדון         6578\n",
            "4                 גניבות אחרות         5759\n",
            "5           שמוש בסמים מסוכנים         5618\n",
            "6       עבירות נגד הסדר הצבורי         4971\n",
            "7    עבירות הנוגעות לנחלת משפט         3801\n",
            "8               סטיסטי כל השאר         3315\n",
            "9  עבירות על חוק הכניסה לישראל         2573\n"
          ]
        }
      ]
    },
    {
      "cell_type": "code",
      "source": [
        "# Create a connection to the SQLite database\n",
        "conn = sqlite3.connect('crimes_data.db')\n",
        "# 3.2 Считаем какой процент преступлений регистрируется в Мигдаль ха-Эмеке от общего количества\n",
        "# Query data from the table\n",
        "query = 'SELECT PoliceStation AS Migdal, SUM(TikimSum) * 100.0 / (SELECT SUM(TikimSum) FROM crimes_data WHERE PoliceStation != \"תחנת מגדל העמק עמקים צפון\") AS ratioInPercent FROM crimes_data WHERE PoliceStation = \"תחנת מגדל העמק עמקים צפון\"'\n",
        "\n",
        "\n",
        "# Result\n",
        "result = pd.read_sql_query(query, conn)\n",
        "print(\"Data from table crimes_data:\")\n",
        "print(result)\n",
        "\n",
        "# Close the connection\n",
        "conn.close()"
      ],
      "metadata": {
        "colab": {
          "base_uri": "https://localhost:8080/"
        },
        "id": "plp5_pJHAWcE",
        "outputId": "b49ff7bc-dc44-4665-f138-0eaff61984db"
      },
      "execution_count": null,
      "outputs": [
        {
          "output_type": "stream",
          "name": "stdout",
          "text": [
            "Data from table crimes_data:\n",
            "                      Migdal  ratioInPercent\n",
            "0  תחנת מגדל העמק עמקים צפון       21.306548\n"
          ]
        }
      ]
    },
    {
      "cell_type": "code",
      "source": [
        "# Create a connection to the SQLite database\n",
        "conn = sqlite3.connect('crimes_data.db')\n",
        "# 3.3 Топ 10 кварталов когда совершено максимальное количество преступлений\n",
        "# Query data from the table\n",
        "query = 'SELECT Quarter, SUM(TikimSum) AS TotalCrimes FROM crimes_data GROUP BY Quarter ORDER BY TotalCrimes DESC LIMIT 10'\n",
        "\n",
        "# Result\n",
        "result = pd.read_sql_query(query, conn)\n",
        "print(\"Data from table crimes_data:\")\n",
        "print(result)\n",
        "\n",
        "# Close the connection\n",
        "conn.close()"
      ],
      "metadata": {
        "colab": {
          "base_uri": "https://localhost:8080/"
        },
        "id": "-7LP4PIMIoJe",
        "outputId": "f910dee4-0949-412f-d93a-b5773f54e66a"
      },
      "execution_count": null,
      "outputs": [
        {
          "output_type": "stream",
          "name": "stdout",
          "text": [
            "Data from table crimes_data:\n",
            "   Quarter  TotalCrimes\n",
            "0  2019-Q1         5601\n",
            "1  2018-Q1         5312\n",
            "2  2018-Q4         5204\n",
            "3  2022-Q1         5191\n",
            "4  2021-Q2         5162\n",
            "5  2020-Q3         5146\n",
            "6  2019-Q3         5079\n",
            "7  2023-Q1         5057\n",
            "8  2019-Q2         5036\n",
            "9  2021-Q1         5017\n"
          ]
        }
      ]
    },
    {
      "cell_type": "code",
      "source": [
        "# Create a connection to the SQLite database\n",
        "conn = sqlite3.connect('crimes_data.db')\n",
        "# 3.4.1 Запрос на анализ тенденций преступности в Мигдаль ха-Эмек по кварталам\n",
        "# Query data from the table\n",
        "query = \"\"\"SELECT Quarter, SUM(TikimSum) AS TotalCrimes FROM crimes_data WHERE PoliceStation = \"תחנת מגדל העמק עמקים צפון\"   AND Quarter BETWEEN '2018-Q1' AND '2023-Q1' GROUP BY Quarter ORDER BY Quarter;\"\"\"\n",
        "\n",
        "# Result\n",
        "result = pd.read_sql_query(query, conn)\n",
        "print(\"Data from table crimes_data:\")\n",
        "print(result)\n",
        "\n",
        "# Close the connection\n",
        "conn.close()"
      ],
      "metadata": {
        "colab": {
          "base_uri": "https://localhost:8080/"
        },
        "id": "fXOeEJtSa-qG",
        "outputId": "f04b17c6-8d3e-4856-c808-48d68051c568"
      },
      "execution_count": null,
      "outputs": [
        {
          "output_type": "stream",
          "name": "stdout",
          "text": [
            "Data from table crimes_data:\n",
            "    Quarter  TotalCrimes\n",
            "0   2018-Q1         1027\n",
            "1   2018-Q2          836\n",
            "2   2018-Q3          871\n",
            "3   2018-Q4          917\n",
            "4   2019-Q1          905\n",
            "5   2019-Q2          749\n",
            "6   2019-Q3          775\n",
            "7   2019-Q4          733\n",
            "8   2020-Q1          846\n",
            "9   2020-Q2          849\n",
            "10  2020-Q3          956\n",
            "11  2020-Q4          865\n",
            "12  2021-Q1          890\n",
            "13  2021-Q2          977\n",
            "14  2021-Q3          923\n",
            "15  2021-Q4          904\n",
            "16  2022-Q1         1028\n",
            "17  2022-Q2          880\n",
            "18  2022-Q3          852\n",
            "19  2022-Q4          854\n",
            "20  2023-Q1          934\n"
          ]
        }
      ]
    },
    {
      "cell_type": "code",
      "source": [
        "# Create a connection to the SQLite database\n",
        "conn = sqlite3.connect('crimes_data.db')\n",
        "# 3.4.2 Запрос на анализ тенденций преступности в округе Север по кварталам\n",
        "# Query data from the table\n",
        "query = \"\"\"SELECT Quarter, SUM(TikimSum) AS TotalCrimes\n",
        "FROM crimes_data\n",
        "WHERE Quarter BETWEEN '2018-Q1' AND '2023-Q1' AND PoliceStation != 'תחנת מגדל העמק עמקים צפון'\n",
        "GROUP BY Quarter\n",
        "ORDER BY Quarter;\"\"\"\n",
        "\n",
        "# Result\n",
        "result = pd.read_sql_query(query, conn)\n",
        "print(\"Data from table crimes_data:\")\n",
        "print(result)\n",
        "\n",
        "# Close the connection\n",
        "conn.close()"
      ],
      "metadata": {
        "colab": {
          "base_uri": "https://localhost:8080/"
        },
        "id": "fLTqMUjtcw47",
        "outputId": "f2830a23-a3fe-4eee-db1d-7448697429c2"
      },
      "execution_count": null,
      "outputs": [
        {
          "output_type": "stream",
          "name": "stdout",
          "text": [
            "Data from table crimes_data:\n",
            "    Quarter  TotalCrimes\n",
            "0   2018-Q1         4285\n",
            "1   2018-Q2         3898\n",
            "2   2018-Q3         4094\n",
            "3   2018-Q4         4287\n",
            "4   2019-Q1         4696\n",
            "5   2019-Q2         4287\n",
            "6   2019-Q3         4304\n",
            "7   2019-Q4         4278\n",
            "8   2020-Q1         3995\n",
            "9   2020-Q2         4128\n",
            "10  2020-Q3         4190\n",
            "11  2020-Q4         4064\n",
            "12  2021-Q1         4127\n",
            "13  2021-Q2         4185\n",
            "14  2021-Q3         3962\n",
            "15  2021-Q4         4076\n",
            "16  2022-Q1         4163\n",
            "17  2022-Q2         3943\n",
            "18  2022-Q3         4037\n",
            "19  2022-Q4         4039\n",
            "20  2023-Q1         4123\n"
          ]
        }
      ]
    },
    {
      "cell_type": "code",
      "source": [
        "# Create a connection to the SQLite database\n",
        "conn = sqlite3.connect('crimes_data.db')\n",
        "# 3.4.3 Рассчет процентного изменения количества преступлений по кварталам в Мигдаль ха-Эмеке\n",
        "# Query data from the table\n",
        "query =  \"\"\"\n",
        "WITH QuarterCrimes AS (\n",
        "    SELECT Quarter, SUM(TikimSum) AS TotalCrimes\n",
        "    FROM crimes_data\n",
        "    WHERE PoliceStation = 'תחנת מגדל העמק עמקים צפון'\n",
        "      AND Quarter BETWEEN '2018-Q1' AND '2023-Q4'\n",
        "    GROUP BY Quarter\n",
        "    ORDER BY Quarter\n",
        "),\n",
        "QuarterChanges AS (\n",
        "    SELECT Quarter,\n",
        "           TotalCrimes,\n",
        "           LAG(TotalCrimes) OVER (ORDER BY Quarter) AS PreviousQuarterCrimes\n",
        "    FROM QuarterCrimes\n",
        ")\n",
        "SELECT Quarter,\n",
        "       TotalCrimes,\n",
        "       CASE\n",
        "           WHEN PreviousQuarterCrimes IS NULL THEN NULL\n",
        "           ELSE ROUND(((TotalCrimes - PreviousQuarterCrimes) * 100.0 / PreviousQuarterCrimes), 1)\n",
        "       END AS PercentChange\n",
        "FROM QuarterChanges;\n",
        "\n",
        "\"\"\"\n",
        "\n",
        "# Result\n",
        "result = pd.read_sql_query(query, conn)\n",
        "print(\"Data from table crimes_data:\")\n",
        "print(result)\n",
        "\n",
        "# Close the connection\n",
        "conn.close()"
      ],
      "metadata": {
        "colab": {
          "base_uri": "https://localhost:8080/"
        },
        "id": "gvKtoGHGhDSh",
        "outputId": "5c6d26a9-0d85-4496-d3ad-f4b505b40ae2"
      },
      "execution_count": null,
      "outputs": [
        {
          "output_type": "stream",
          "name": "stdout",
          "text": [
            "Data from table crimes_data:\n",
            "    Quarter  TotalCrimes  PercentChange\n",
            "0   2018-Q1         1027            NaN\n",
            "1   2018-Q2          836          -18.6\n",
            "2   2018-Q3          871            4.2\n",
            "3   2018-Q4          917            5.3\n",
            "4   2019-Q1          905           -1.3\n",
            "5   2019-Q2          749          -17.2\n",
            "6   2019-Q3          775            3.5\n",
            "7   2019-Q4          733           -5.4\n",
            "8   2020-Q1          846           15.4\n",
            "9   2020-Q2          849            0.4\n",
            "10  2020-Q3          956           12.6\n",
            "11  2020-Q4          865           -9.5\n",
            "12  2021-Q1          890            2.9\n",
            "13  2021-Q2          977            9.8\n",
            "14  2021-Q3          923           -5.5\n",
            "15  2021-Q4          904           -2.1\n",
            "16  2022-Q1         1028           13.7\n",
            "17  2022-Q2          880          -14.4\n",
            "18  2022-Q3          852           -3.2\n",
            "19  2022-Q4          854            0.2\n",
            "20  2023-Q1          934            9.4\n"
          ]
        }
      ]
    },
    {
      "cell_type": "code",
      "source": [
        "# Create a connection to the SQLite database\n",
        "conn = sqlite3.connect('crimes_data.db')\n",
        "# 3.4.4 Рассчет процентного изменения по кварталам в среднем по всем другим полицейским станциям не включая Мигдаль ха-Эмек\n",
        "# Query data from the table\n",
        "query =  \"\"\"\n",
        "WITH QuarterCrimes AS (\n",
        "    SELECT Quarter, SUM(TikimSum) AS TotalCrimes\n",
        "    FROM crimes_data\n",
        "    WHERE PoliceStation != 'תחנת מגדל העמק עמקים צפון'\n",
        "      AND Quarter BETWEEN '2018-Q1' AND '2023-Q4'\n",
        "    GROUP BY Quarter\n",
        "    ORDER BY Quarter\n",
        "),\n",
        "QuarterChanges AS (\n",
        "    SELECT Quarter,\n",
        "           TotalCrimes,\n",
        "           LAG(TotalCrimes) OVER (ORDER BY Quarter) AS PreviousQuarterCrimes\n",
        "    FROM QuarterCrimes\n",
        ")\n",
        "SELECT Quarter,\n",
        "       TotalCrimes,\n",
        "       CASE\n",
        "           WHEN PreviousQuarterCrimes IS NULL THEN NULL\n",
        "           ELSE ROUND(((TotalCrimes - PreviousQuarterCrimes) * 100.0 / PreviousQuarterCrimes), 1)\n",
        "       END AS PercentChange\n",
        "FROM QuarterChanges;\n",
        "\n",
        "\"\"\"\n",
        "\n",
        "# Result\n",
        "result = pd.read_sql_query(query, conn)\n",
        "print(\"Data from table crimes_data:\")\n",
        "print(result)\n",
        "\n",
        "# Close the connection\n",
        "conn.close()"
      ],
      "metadata": {
        "colab": {
          "base_uri": "https://localhost:8080/"
        },
        "id": "9WD99-jtlk2Q",
        "outputId": "a3611ad9-c79c-48b7-bce1-ed6c53f8d524"
      },
      "execution_count": null,
      "outputs": [
        {
          "output_type": "stream",
          "name": "stdout",
          "text": [
            "Data from table crimes_data:\n",
            "    Quarter  TotalCrimes  PercentChange\n",
            "0   2018-Q1         4285            NaN\n",
            "1   2018-Q2         3898           -9.0\n",
            "2   2018-Q3         4094            5.0\n",
            "3   2018-Q4         4287            4.7\n",
            "4   2019-Q1         4696            9.5\n",
            "5   2019-Q2         4287           -8.7\n",
            "6   2019-Q3         4304            0.4\n",
            "7   2019-Q4         4278           -0.6\n",
            "8   2020-Q1         3995           -6.6\n",
            "9   2020-Q2         4128            3.3\n",
            "10  2020-Q3         4190            1.5\n",
            "11  2020-Q4         4064           -3.0\n",
            "12  2021-Q1         4127            1.6\n",
            "13  2021-Q2         4185            1.4\n",
            "14  2021-Q3         3962           -5.3\n",
            "15  2021-Q4         4076            2.9\n",
            "16  2022-Q1         4163            2.1\n",
            "17  2022-Q2         3943           -5.3\n",
            "18  2022-Q3         4037            2.4\n",
            "19  2022-Q4         4039            0.0\n",
            "20  2023-Q1         4123            2.1\n"
          ]
        }
      ]
    },
    {
      "cell_type": "code",
      "source": [
        "# Create a connection to the SQLite database\n",
        "conn = sqlite3.connect('crimes_data.db')\n",
        "# 3.5.1 Топ 10 типов преступлений для Мигдаль ха-Эмека в период(2018-2023)\n",
        "# Query data from the table\n",
        "query =  \"\"\" SELECT StatisticCrimeType,  SUM(TikimSum) AS TotalCrimes\n",
        "FROM crimes_data\n",
        "WHERE PoliceStation = \"תחנת מגדל העמק עמקים צפון\"\n",
        "GROUP BY StatisticCrimeType\n",
        "ORDER BY TotalCrimes DESC\n",
        "LIMIT 10\n",
        "\"\"\"\n",
        "\n",
        "# Result\n",
        "result = pd.read_sql_query(query, conn)\n",
        "print(\"Data from table crimes_data:\")\n",
        "print(result)\n",
        "\n",
        "# Close the connection\n",
        "conn.close()"
      ],
      "metadata": {
        "colab": {
          "base_uri": "https://localhost:8080/"
        },
        "id": "dwBi7tuz9rWs",
        "outputId": "918492a0-6d1e-404a-e7d5-d77319f19ae6"
      },
      "execution_count": null,
      "outputs": [
        {
          "output_type": "stream",
          "name": "stdout",
          "text": [
            "Data from table crimes_data:\n",
            "          StatisticCrimeType  TotalCrimes\n",
            "0                     איומים         2553\n",
            "1   (תקיפה (למעט עובדי ציבור         1739\n",
            "2         שמוש בסמים מסוכנים         1534\n",
            "3      גרימת נזק לרכוש בזדון         1467\n",
            "4               גניבות אחרות         1408\n",
            "5     עבירות נגד הסדר הצבורי         1108\n",
            "6  עבירות הנוגעות לנחלת משפט          818\n",
            "7             סטיסטי כל השאר          755\n",
            "8                       None          724\n",
            "9          התפרצות לבית דירה          683\n"
          ]
        }
      ]
    },
    {
      "cell_type": "code",
      "source": [
        "# Create a connection to the SQLite database\n",
        "conn = sqlite3.connect('crimes_data.db')\n",
        "# 3.5.2 Топ 10 типов преступлений для Мигдаль ха-Эмека в период(2018-Q2, 2020-Q3, 2021-Q2, 2022-Q1')\n",
        "# Query data from the table\n",
        "query =  \"\"\"\n",
        "SELECT StatisticCrimeType, SUM(TikimSum) AS TotalCrimes\n",
        "FROM crimes_data\n",
        "WHERE PoliceStation = 'תחנת מגדל העמק עמקים צפון'\n",
        "  AND Quarter IN ('2018-Q2', '2020-Q3', '2021-Q2', '2022-Q1')\n",
        "GROUP BY StatisticCrimeType\n",
        "ORDER BY TotalCrimes DESC\n",
        "LIMIT 10;\n",
        "\"\"\"\n",
        "\n",
        "# Result\n",
        "result = pd.read_sql_query(query, conn)\n",
        "print(\"Data from table crimes_data:\")\n",
        "print(result)\n",
        "\n",
        "# Close the connection\n",
        "conn.close()"
      ],
      "metadata": {
        "colab": {
          "base_uri": "https://localhost:8080/"
        },
        "id": "gUW9ALn_-qbh",
        "outputId": "8e5f9a6d-3072-4eab-8da3-c27587b418d7"
      },
      "execution_count": null,
      "outputs": [
        {
          "output_type": "stream",
          "name": "stdout",
          "text": [
            "Data from table crimes_data:\n",
            "          StatisticCrimeType  TotalCrimes\n",
            "0                     איומים          516\n",
            "1         שמוש בסמים מסוכנים          349\n",
            "2   (תקיפה (למעט עובדי ציבור          331\n",
            "3      גרימת נזק לרכוש בזדון          285\n",
            "4               גניבות אחרות          281\n",
            "5     עבירות נגד הסדר הצבורי          199\n",
            "6                       None          183\n",
            "7  עבירות הנוגעות לנחלת משפט          162\n",
            "8          התפרצות לבית דירה          151\n",
            "9             סטיסטי כל השאר          140\n"
          ]
        }
      ]
    },
    {
      "cell_type": "markdown",
      "source": [
        "#Test"
      ],
      "metadata": {
        "id": "6534qRtG93wt"
      }
    },
    {
      "cell_type": "markdown",
      "source": [
        "CREATEd 20 files"
      ],
      "metadata": {
        "id": "iQFqiPFcHJa2"
      }
    },
    {
      "cell_type": "code",
      "source": [
        "df_crimes.shape"
      ],
      "metadata": {
        "colab": {
          "base_uri": "https://localhost:8080/"
        },
        "id": "oeYRQBVY-fjR",
        "outputId": "f857672f-49ec-4f8b-e45b-459a0528fa85"
      },
      "execution_count": null,
      "outputs": [
        {
          "output_type": "execute_result",
          "data": {
            "text/plain": [
              "(27879, 10)"
            ]
          },
          "metadata": {},
          "execution_count": 71
        }
      ]
    },
    {
      "cell_type": "code",
      "source": [
        "df_crimes.head()"
      ],
      "metadata": {
        "colab": {
          "base_uri": "https://localhost:8080/",
          "height": 313
        },
        "id": "xoxgPQZ1-iXi",
        "outputId": "4462329f-6a0c-4e06-a58c-f9842491bf20"
      },
      "execution_count": null,
      "outputs": [
        {
          "output_type": "execute_result",
          "data": {
            "text/plain": [
              "                         ArealAttributionType PoliceDistrict   PoliceMerhav  \\\n",
              "0  תיקים בישוב/מועצה שלא שוייכו לאזור סטטיסטי       מחוז חוף  מרחב כרמל חוף   \n",
              "1  תיקים בישוב/מועצה שלא שוייכו לאזור סטטיסטי       מחוז חוף  מרחב כרמל חוף   \n",
              "2  תיקים בישוב/מועצה שלא שוייכו לאזור סטטיסטי       מחוז חוף  מרחב כרמל חוף   \n",
              "3  תיקים בישוב/מועצה שלא שוייכו לאזור סטטיסטי       מחוז חוף  מרחב כרמל חוף   \n",
              "4  תיקים בישוב/מועצה שלא שוייכו לאזור סטטיסטי       מחוז חוף  מרחב כרמל חוף   \n",
              "\n",
              "        PoliceStation Settlement_Council  StatArea  Quarter  \\\n",
              "0  תחנת חיפה מחוז חוף               חיפה       NaN  2018-Q1   \n",
              "1  תחנת חיפה מחוז חוף               חיפה       NaN  2018-Q2   \n",
              "2  תחנת חיפה מחוז חוף               חיפה       NaN  2018-Q3   \n",
              "3  תחנת חיפה מחוז חוף               חיפה       NaN  2018-Q4   \n",
              "4  תחנת חיפה מחוז חוף               חיפה       NaN  2019-Q1   \n",
              "\n",
              "  StatisticCrimeGroup StatisticCrimeType  TikimSum  \n",
              "0                 NaN                NaN        86  \n",
              "1                 NaN                NaN        99  \n",
              "2                 NaN                NaN       102  \n",
              "3                 NaN                NaN        78  \n",
              "4                 NaN                NaN        42  "
            ],
            "text/html": [
              "\n",
              "  <div id=\"df-7a5d2768-ca7b-4710-9411-647ef15c12ad\" class=\"colab-df-container\">\n",
              "    <div>\n",
              "<style scoped>\n",
              "    .dataframe tbody tr th:only-of-type {\n",
              "        vertical-align: middle;\n",
              "    }\n",
              "\n",
              "    .dataframe tbody tr th {\n",
              "        vertical-align: top;\n",
              "    }\n",
              "\n",
              "    .dataframe thead th {\n",
              "        text-align: right;\n",
              "    }\n",
              "</style>\n",
              "<table border=\"1\" class=\"dataframe\">\n",
              "  <thead>\n",
              "    <tr style=\"text-align: right;\">\n",
              "      <th></th>\n",
              "      <th>ArealAttributionType</th>\n",
              "      <th>PoliceDistrict</th>\n",
              "      <th>PoliceMerhav</th>\n",
              "      <th>PoliceStation</th>\n",
              "      <th>Settlement_Council</th>\n",
              "      <th>StatArea</th>\n",
              "      <th>Quarter</th>\n",
              "      <th>StatisticCrimeGroup</th>\n",
              "      <th>StatisticCrimeType</th>\n",
              "      <th>TikimSum</th>\n",
              "    </tr>\n",
              "  </thead>\n",
              "  <tbody>\n",
              "    <tr>\n",
              "      <th>0</th>\n",
              "      <td>תיקים בישוב/מועצה שלא שוייכו לאזור סטטיסטי</td>\n",
              "      <td>מחוז חוף</td>\n",
              "      <td>מרחב כרמל חוף</td>\n",
              "      <td>תחנת חיפה מחוז חוף</td>\n",
              "      <td>חיפה</td>\n",
              "      <td>NaN</td>\n",
              "      <td>2018-Q1</td>\n",
              "      <td>NaN</td>\n",
              "      <td>NaN</td>\n",
              "      <td>86</td>\n",
              "    </tr>\n",
              "    <tr>\n",
              "      <th>1</th>\n",
              "      <td>תיקים בישוב/מועצה שלא שוייכו לאזור סטטיסטי</td>\n",
              "      <td>מחוז חוף</td>\n",
              "      <td>מרחב כרמל חוף</td>\n",
              "      <td>תחנת חיפה מחוז חוף</td>\n",
              "      <td>חיפה</td>\n",
              "      <td>NaN</td>\n",
              "      <td>2018-Q2</td>\n",
              "      <td>NaN</td>\n",
              "      <td>NaN</td>\n",
              "      <td>99</td>\n",
              "    </tr>\n",
              "    <tr>\n",
              "      <th>2</th>\n",
              "      <td>תיקים בישוב/מועצה שלא שוייכו לאזור סטטיסטי</td>\n",
              "      <td>מחוז חוף</td>\n",
              "      <td>מרחב כרמל חוף</td>\n",
              "      <td>תחנת חיפה מחוז חוף</td>\n",
              "      <td>חיפה</td>\n",
              "      <td>NaN</td>\n",
              "      <td>2018-Q3</td>\n",
              "      <td>NaN</td>\n",
              "      <td>NaN</td>\n",
              "      <td>102</td>\n",
              "    </tr>\n",
              "    <tr>\n",
              "      <th>3</th>\n",
              "      <td>תיקים בישוב/מועצה שלא שוייכו לאזור סטטיסטי</td>\n",
              "      <td>מחוז חוף</td>\n",
              "      <td>מרחב כרמל חוף</td>\n",
              "      <td>תחנת חיפה מחוז חוף</td>\n",
              "      <td>חיפה</td>\n",
              "      <td>NaN</td>\n",
              "      <td>2018-Q4</td>\n",
              "      <td>NaN</td>\n",
              "      <td>NaN</td>\n",
              "      <td>78</td>\n",
              "    </tr>\n",
              "    <tr>\n",
              "      <th>4</th>\n",
              "      <td>תיקים בישוב/מועצה שלא שוייכו לאזור סטטיסטי</td>\n",
              "      <td>מחוז חוף</td>\n",
              "      <td>מרחב כרמל חוף</td>\n",
              "      <td>תחנת חיפה מחוז חוף</td>\n",
              "      <td>חיפה</td>\n",
              "      <td>NaN</td>\n",
              "      <td>2019-Q1</td>\n",
              "      <td>NaN</td>\n",
              "      <td>NaN</td>\n",
              "      <td>42</td>\n",
              "    </tr>\n",
              "  </tbody>\n",
              "</table>\n",
              "</div>\n",
              "    <div class=\"colab-df-buttons\">\n",
              "\n",
              "  <div class=\"colab-df-container\">\n",
              "    <button class=\"colab-df-convert\" onclick=\"convertToInteractive('df-7a5d2768-ca7b-4710-9411-647ef15c12ad')\"\n",
              "            title=\"Convert this dataframe to an interactive table.\"\n",
              "            style=\"display:none;\">\n",
              "\n",
              "  <svg xmlns=\"http://www.w3.org/2000/svg\" height=\"24px\" viewBox=\"0 -960 960 960\">\n",
              "    <path d=\"M120-120v-720h720v720H120Zm60-500h600v-160H180v160Zm220 220h160v-160H400v160Zm0 220h160v-160H400v160ZM180-400h160v-160H180v160Zm440 0h160v-160H620v160ZM180-180h160v-160H180v160Zm440 0h160v-160H620v160Z\"/>\n",
              "  </svg>\n",
              "    </button>\n",
              "\n",
              "  <style>\n",
              "    .colab-df-container {\n",
              "      display:flex;\n",
              "      gap: 12px;\n",
              "    }\n",
              "\n",
              "    .colab-df-convert {\n",
              "      background-color: #E8F0FE;\n",
              "      border: none;\n",
              "      border-radius: 50%;\n",
              "      cursor: pointer;\n",
              "      display: none;\n",
              "      fill: #1967D2;\n",
              "      height: 32px;\n",
              "      padding: 0 0 0 0;\n",
              "      width: 32px;\n",
              "    }\n",
              "\n",
              "    .colab-df-convert:hover {\n",
              "      background-color: #E2EBFA;\n",
              "      box-shadow: 0px 1px 2px rgba(60, 64, 67, 0.3), 0px 1px 3px 1px rgba(60, 64, 67, 0.15);\n",
              "      fill: #174EA6;\n",
              "    }\n",
              "\n",
              "    .colab-df-buttons div {\n",
              "      margin-bottom: 4px;\n",
              "    }\n",
              "\n",
              "    [theme=dark] .colab-df-convert {\n",
              "      background-color: #3B4455;\n",
              "      fill: #D2E3FC;\n",
              "    }\n",
              "\n",
              "    [theme=dark] .colab-df-convert:hover {\n",
              "      background-color: #434B5C;\n",
              "      box-shadow: 0px 1px 3px 1px rgba(0, 0, 0, 0.15);\n",
              "      filter: drop-shadow(0px 1px 2px rgba(0, 0, 0, 0.3));\n",
              "      fill: #FFFFFF;\n",
              "    }\n",
              "  </style>\n",
              "\n",
              "    <script>\n",
              "      const buttonEl =\n",
              "        document.querySelector('#df-7a5d2768-ca7b-4710-9411-647ef15c12ad button.colab-df-convert');\n",
              "      buttonEl.style.display =\n",
              "        google.colab.kernel.accessAllowed ? 'block' : 'none';\n",
              "\n",
              "      async function convertToInteractive(key) {\n",
              "        const element = document.querySelector('#df-7a5d2768-ca7b-4710-9411-647ef15c12ad');\n",
              "        const dataTable =\n",
              "          await google.colab.kernel.invokeFunction('convertToInteractive',\n",
              "                                                    [key], {});\n",
              "        if (!dataTable) return;\n",
              "\n",
              "        const docLinkHtml = 'Like what you see? Visit the ' +\n",
              "          '<a target=\"_blank\" href=https://colab.research.google.com/notebooks/data_table.ipynb>data table notebook</a>'\n",
              "          + ' to learn more about interactive tables.';\n",
              "        element.innerHTML = '';\n",
              "        dataTable['output_type'] = 'display_data';\n",
              "        await google.colab.output.renderOutput(dataTable, element);\n",
              "        const docLink = document.createElement('div');\n",
              "        docLink.innerHTML = docLinkHtml;\n",
              "        element.appendChild(docLink);\n",
              "      }\n",
              "    </script>\n",
              "  </div>\n",
              "\n",
              "\n",
              "<div id=\"df-235c43fc-80ca-4b77-b386-7c4462ec8442\">\n",
              "  <button class=\"colab-df-quickchart\" onclick=\"quickchart('df-235c43fc-80ca-4b77-b386-7c4462ec8442')\"\n",
              "            title=\"Suggest charts\"\n",
              "            style=\"display:none;\">\n",
              "\n",
              "<svg xmlns=\"http://www.w3.org/2000/svg\" height=\"24px\"viewBox=\"0 0 24 24\"\n",
              "     width=\"24px\">\n",
              "    <g>\n",
              "        <path d=\"M19 3H5c-1.1 0-2 .9-2 2v14c0 1.1.9 2 2 2h14c1.1 0 2-.9 2-2V5c0-1.1-.9-2-2-2zM9 17H7v-7h2v7zm4 0h-2V7h2v10zm4 0h-2v-4h2v4z\"/>\n",
              "    </g>\n",
              "</svg>\n",
              "  </button>\n",
              "\n",
              "<style>\n",
              "  .colab-df-quickchart {\n",
              "      --bg-color: #E8F0FE;\n",
              "      --fill-color: #1967D2;\n",
              "      --hover-bg-color: #E2EBFA;\n",
              "      --hover-fill-color: #174EA6;\n",
              "      --disabled-fill-color: #AAA;\n",
              "      --disabled-bg-color: #DDD;\n",
              "  }\n",
              "\n",
              "  [theme=dark] .colab-df-quickchart {\n",
              "      --bg-color: #3B4455;\n",
              "      --fill-color: #D2E3FC;\n",
              "      --hover-bg-color: #434B5C;\n",
              "      --hover-fill-color: #FFFFFF;\n",
              "      --disabled-bg-color: #3B4455;\n",
              "      --disabled-fill-color: #666;\n",
              "  }\n",
              "\n",
              "  .colab-df-quickchart {\n",
              "    background-color: var(--bg-color);\n",
              "    border: none;\n",
              "    border-radius: 50%;\n",
              "    cursor: pointer;\n",
              "    display: none;\n",
              "    fill: var(--fill-color);\n",
              "    height: 32px;\n",
              "    padding: 0;\n",
              "    width: 32px;\n",
              "  }\n",
              "\n",
              "  .colab-df-quickchart:hover {\n",
              "    background-color: var(--hover-bg-color);\n",
              "    box-shadow: 0 1px 2px rgba(60, 64, 67, 0.3), 0 1px 3px 1px rgba(60, 64, 67, 0.15);\n",
              "    fill: var(--button-hover-fill-color);\n",
              "  }\n",
              "\n",
              "  .colab-df-quickchart-complete:disabled,\n",
              "  .colab-df-quickchart-complete:disabled:hover {\n",
              "    background-color: var(--disabled-bg-color);\n",
              "    fill: var(--disabled-fill-color);\n",
              "    box-shadow: none;\n",
              "  }\n",
              "\n",
              "  .colab-df-spinner {\n",
              "    border: 2px solid var(--fill-color);\n",
              "    border-color: transparent;\n",
              "    border-bottom-color: var(--fill-color);\n",
              "    animation:\n",
              "      spin 1s steps(1) infinite;\n",
              "  }\n",
              "\n",
              "  @keyframes spin {\n",
              "    0% {\n",
              "      border-color: transparent;\n",
              "      border-bottom-color: var(--fill-color);\n",
              "      border-left-color: var(--fill-color);\n",
              "    }\n",
              "    20% {\n",
              "      border-color: transparent;\n",
              "      border-left-color: var(--fill-color);\n",
              "      border-top-color: var(--fill-color);\n",
              "    }\n",
              "    30% {\n",
              "      border-color: transparent;\n",
              "      border-left-color: var(--fill-color);\n",
              "      border-top-color: var(--fill-color);\n",
              "      border-right-color: var(--fill-color);\n",
              "    }\n",
              "    40% {\n",
              "      border-color: transparent;\n",
              "      border-right-color: var(--fill-color);\n",
              "      border-top-color: var(--fill-color);\n",
              "    }\n",
              "    60% {\n",
              "      border-color: transparent;\n",
              "      border-right-color: var(--fill-color);\n",
              "    }\n",
              "    80% {\n",
              "      border-color: transparent;\n",
              "      border-right-color: var(--fill-color);\n",
              "      border-bottom-color: var(--fill-color);\n",
              "    }\n",
              "    90% {\n",
              "      border-color: transparent;\n",
              "      border-bottom-color: var(--fill-color);\n",
              "    }\n",
              "  }\n",
              "</style>\n",
              "\n",
              "  <script>\n",
              "    async function quickchart(key) {\n",
              "      const quickchartButtonEl =\n",
              "        document.querySelector('#' + key + ' button');\n",
              "      quickchartButtonEl.disabled = true;  // To prevent multiple clicks.\n",
              "      quickchartButtonEl.classList.add('colab-df-spinner');\n",
              "      try {\n",
              "        const charts = await google.colab.kernel.invokeFunction(\n",
              "            'suggestCharts', [key], {});\n",
              "      } catch (error) {\n",
              "        console.error('Error during call to suggestCharts:', error);\n",
              "      }\n",
              "      quickchartButtonEl.classList.remove('colab-df-spinner');\n",
              "      quickchartButtonEl.classList.add('colab-df-quickchart-complete');\n",
              "    }\n",
              "    (() => {\n",
              "      let quickchartButtonEl =\n",
              "        document.querySelector('#df-235c43fc-80ca-4b77-b386-7c4462ec8442 button');\n",
              "      quickchartButtonEl.style.display =\n",
              "        google.colab.kernel.accessAllowed ? 'block' : 'none';\n",
              "    })();\n",
              "  </script>\n",
              "</div>\n",
              "\n",
              "    </div>\n",
              "  </div>\n"
            ],
            "application/vnd.google.colaboratory.intrinsic+json": {
              "type": "dataframe",
              "variable_name": "df_crimes",
              "summary": "{\n  \"name\": \"df_crimes\",\n  \"rows\": 27879,\n  \"fields\": [\n    {\n      \"column\": \"ArealAttributionType\",\n      \"properties\": {\n        \"dtype\": \"category\",\n        \"num_unique_values\": 3,\n        \"samples\": [\n          \"\\u05ea\\u05d9\\u05e7\\u05d9\\u05dd \\u05d1\\u05d9\\u05e9\\u05d5\\u05d1/\\u05de\\u05d5\\u05e2\\u05e6\\u05d4 \\u05e9\\u05dc\\u05d0 \\u05e9\\u05d5\\u05d9\\u05d9\\u05db\\u05d5 \\u05dc\\u05d0\\u05d6\\u05d5\\u05e8 \\u05e1\\u05d8\\u05d8\\u05d9\\u05e1\\u05d8\\u05d9\",\n          \"\\u05ea\\u05d9\\u05e7\\u05d9\\u05dd \\u05d1\\u05d0\\u05d6\\u05d5\\u05e8 \\u05e1\\u05d8\\u05d8\\u05d9\\u05e1\\u05d8\\u05d9\",\n          \"\\u05ea\\u05d9\\u05e7\\u05d9\\u05dd \\u05d1\\u05d8\\u05e8\\u05d9\\u05d8\\u05d5\\u05e8\\u05d9\\u05d9\\u05ea \\u05ea\\u05d7\\u05e0\\u05d4 \\u05e9\\u05dc\\u05d0 \\u05e9\\u05d5\\u05d9\\u05d9\\u05db\\u05d5 \\u05dc\\u05d0\\u05d6\\u05d5\\u05e8 \\u05e1\\u05d8\\u05d8\\u05d9\\u05e1\\u05d8\\u05d9, \\u05d0\\u05d5 \\u05dc\\u05d9\\u05e9\\u05d5\\u05d1/\\u05de\\u05d5\\u05e2\\u05e6\\u05d4\"\n        ],\n        \"semantic_type\": \"\",\n        \"description\": \"\"\n      }\n    },\n    {\n      \"column\": \"PoliceDistrict\",\n      \"properties\": {\n        \"dtype\": \"category\",\n        \"num_unique_values\": 1,\n        \"samples\": [\n          \"\\u05de\\u05d7\\u05d5\\u05d6 \\u05d7\\u05d5\\u05e3\"\n        ],\n        \"semantic_type\": \"\",\n        \"description\": \"\"\n      }\n    },\n    {\n      \"column\": \"PoliceMerhav\",\n      \"properties\": {\n        \"dtype\": \"category\",\n        \"num_unique_values\": 1,\n        \"samples\": [\n          \"\\u05de\\u05e8\\u05d7\\u05d1 \\u05db\\u05e8\\u05de\\u05dc \\u05d7\\u05d5\\u05e3\"\n        ],\n        \"semantic_type\": \"\",\n        \"description\": \"\"\n      }\n    },\n    {\n      \"column\": \"PoliceStation\",\n      \"properties\": {\n        \"dtype\": \"category\",\n        \"num_unique_values\": 3,\n        \"samples\": [\n          \"\\u05ea\\u05d7\\u05e0\\u05ea \\u05d7\\u05d9\\u05e4\\u05d4 \\u05de\\u05d7\\u05d5\\u05d6 \\u05d7\\u05d5\\u05e3\"\n        ],\n        \"semantic_type\": \"\",\n        \"description\": \"\"\n      }\n    },\n    {\n      \"column\": \"Settlement_Council\",\n      \"properties\": {\n        \"dtype\": \"category\",\n        \"num_unique_values\": 8,\n        \"samples\": [\n          \"\\u05de\\u05e7\\u05d5\\u05dd \\u05d0\\u05d7\\u05e8\"\n        ],\n        \"semantic_type\": \"\",\n        \"description\": \"\"\n      }\n    },\n    {\n      \"column\": \"StatArea\",\n      \"properties\": {\n        \"dtype\": \"number\",\n        \"std\": 6220198.985976184,\n        \"min\": 4940001.0,\n        \"max\": 40000945.0,\n        \"num_unique_values\": 119,\n        \"samples\": [\n          40000622.0\n        ],\n        \"semantic_type\": \"\",\n        \"description\": \"\"\n      }\n    },\n    {\n      \"column\": \"Quarter\",\n      \"properties\": {\n        \"dtype\": \"object\",\n        \"num_unique_values\": 21,\n        \"samples\": [\n          \"2018-Q1\"\n        ],\n        \"semantic_type\": \"\",\n        \"description\": \"\"\n      }\n    },\n    {\n      \"column\": \"StatisticCrimeGroup\",\n      \"properties\": {\n        \"dtype\": \"category\",\n        \"num_unique_values\": 15,\n        \"samples\": [\n          \"\\u05e2\\u05d1\\u05d9\\u05e8\\u05d5\\u05ea \\u05ea\\u05e0\\u05d5\\u05e2\\u05d4\"\n        ],\n        \"semantic_type\": \"\",\n        \"description\": \"\"\n      }\n    },\n    {\n      \"column\": \"StatisticCrimeType\",\n      \"properties\": {\n        \"dtype\": \"category\",\n        \"num_unique_values\": 118,\n        \"samples\": [\n          \"\\u05e9\\u05d5\\u05d3\"\n        ],\n        \"semantic_type\": \"\",\n        \"description\": \"\"\n      }\n    },\n    {\n      \"column\": \"TikimSum\",\n      \"properties\": {\n        \"dtype\": \"number\",\n        \"std\": 5,\n        \"min\": 1,\n        \"max\": 114,\n        \"num_unique_values\": 84,\n        \"samples\": [\n          108\n        ],\n        \"semantic_type\": \"\",\n        \"description\": \"\"\n      }\n    }\n  ]\n}"
            }
          },
          "metadata": {},
          "execution_count": 72
        }
      ]
    },
    {
      "cell_type": "code",
      "source": [
        "# List all different values of the 'ArealAttributionType' column\n",
        "df_crimes['ArealAttributionType'].unique()"
      ],
      "metadata": {
        "colab": {
          "base_uri": "https://localhost:8080/"
        },
        "id": "HeFEX_OqATHH",
        "outputId": "d7744085-1ff1-4d67-ab83-e7adb132d092"
      },
      "execution_count": null,
      "outputs": [
        {
          "output_type": "execute_result",
          "data": {
            "text/plain": [
              "array(['תיקים בישוב/מועצה שלא שוייכו לאזור סטטיסטי',\n",
              "       'תיקים באזור סטטיסטי',\n",
              "       'תיקים בטריטוריית תחנה שלא שוייכו לאזור סטטיסטי, או לישוב/מועצה'],\n",
              "      dtype=object)"
            ]
          },
          "metadata": {},
          "execution_count": 73
        }
      ]
    },
    {
      "cell_type": "code",
      "source": [
        "df_crimes['PoliceDistrict'].unique()"
      ],
      "metadata": {
        "colab": {
          "base_uri": "https://localhost:8080/"
        },
        "id": "Nq739altAfUF",
        "outputId": "ab364b34-2cd3-447e-96c8-a578299df4dd"
      },
      "execution_count": null,
      "outputs": [
        {
          "output_type": "execute_result",
          "data": {
            "text/plain": [
              "array(['מחוז חוף'], dtype=object)"
            ]
          },
          "metadata": {},
          "execution_count": 74
        }
      ]
    },
    {
      "cell_type": "code",
      "source": [
        "df_crimes['PoliceMerhav'].unique()"
      ],
      "metadata": {
        "colab": {
          "base_uri": "https://localhost:8080/"
        },
        "id": "Rw4y3ektAjeB",
        "outputId": "ac724249-5531-466a-ecd9-e1982317a13e"
      },
      "execution_count": null,
      "outputs": [
        {
          "output_type": "execute_result",
          "data": {
            "text/plain": [
              "array(['מרחב כרמל חוף'], dtype=object)"
            ]
          },
          "metadata": {},
          "execution_count": 75
        }
      ]
    },
    {
      "cell_type": "code",
      "source": [
        "df_crimes['PoliceStation'].unique()"
      ],
      "metadata": {
        "colab": {
          "base_uri": "https://localhost:8080/"
        },
        "id": "_P89Nh8YAov4",
        "outputId": "dd5a5ea4-1182-49f0-b412-44488b0ea1c7"
      },
      "execution_count": null,
      "outputs": [
        {
          "output_type": "execute_result",
          "data": {
            "text/plain": [
              "array(['תחנת חיפה מחוז חוף', 'תחנת טירת הכרמל חוף', 'תחנת נשר מחוז חוף'],\n",
              "      dtype=object)"
            ]
          },
          "metadata": {},
          "execution_count": 76
        }
      ]
    },
    {
      "cell_type": "code",
      "source": [
        "df_crimes['Settlement_Council'].unique()"
      ],
      "metadata": {
        "colab": {
          "base_uri": "https://localhost:8080/"
        },
        "id": "xnrhoKu3At8R",
        "outputId": "f5ed75b0-7732-44ce-e2b5-c30bcb88dd29"
      },
      "execution_count": null,
      "outputs": [
        {
          "output_type": "execute_result",
          "data": {
            "text/plain": [
              "array(['חיפה', 'מקום אחר', 'טירת כרמל', 'מועצה אזורית חוף הכרמל', nan,\n",
              "       'דאלית אל כרמל', 'מועצה אזורית זבולון', 'נשר', 'עספיא'],\n",
              "      dtype=object)"
            ]
          },
          "metadata": {},
          "execution_count": 77
        }
      ]
    },
    {
      "cell_type": "code",
      "source": [
        "df_crimes['StatArea'].unique()"
      ],
      "metadata": {
        "colab": {
          "base_uri": "https://localhost:8080/"
        },
        "id": "pF_p2A35A2Jq",
        "outputId": "8054e3b4-771e-41d4-d43f-59527c1a86b4"
      },
      "execution_count": null,
      "outputs": [
        {
          "output_type": "execute_result",
          "data": {
            "text/plain": [
              "array([      nan, 40000112., 40000121., 40000122., 40000123., 40000131.,\n",
              "       40000135., 40000211., 40000214., 40000221., 40000222., 40000223.,\n",
              "       40000231., 40000232., 40000311., 40000314., 40000321., 40000324.,\n",
              "       40000331., 40000332., 40000333., 40000334., 40000411., 40000412.,\n",
              "       40000413., 40000414., 40000417., 40000418., 40000421., 40000422.,\n",
              "       40000423., 40000424., 40000425., 40000426., 40000431., 40000432.,\n",
              "       40000433., 40000434., 40000511., 40000512., 40000513., 40000514.,\n",
              "       40000521., 40000522., 40000523., 40000524., 40000525., 40000526.,\n",
              "       40000527., 40000528., 40000531., 40000532., 40000533., 40000611.,\n",
              "       40000612., 40000613., 40000621., 40000622., 40000623., 40000631.,\n",
              "       40000632., 40000633., 40000634., 40000641., 40000642., 40000643.,\n",
              "       40000644., 40000711., 40000712., 40000713., 40000714., 40000715.,\n",
              "       40000721., 40000722., 40000723., 40000731., 40000732., 40000733.,\n",
              "       40000811., 40000812., 40000813., 40000821., 40000822., 40000823.,\n",
              "       40000824., 40000825., 40000911., 40000912., 40000921., 40000922.,\n",
              "       40000931., 40000932., 40000933., 40000934., 40000941., 40000942.,\n",
              "       40000943., 40000944., 40000945., 40000124., 21000001., 21000002.,\n",
              "       21000003., 21000004., 21000005., 21000006., 21000007.,  4940001.,\n",
              "        4940002.,  4940003.,  4940004.,  4940005., 25000001., 25000002.,\n",
              "       25000003., 25000004., 25000005., 25000006., 25000007.,  5340001.])"
            ]
          },
          "metadata": {},
          "execution_count": 78
        }
      ]
    },
    {
      "cell_type": "code",
      "source": [
        "df_crimes['Quarter'].unique()"
      ],
      "metadata": {
        "colab": {
          "base_uri": "https://localhost:8080/"
        },
        "id": "F2dDM-A8A_5B",
        "outputId": "2c73f863-7d3d-4b0a-dba2-8b192cd404fb"
      },
      "execution_count": null,
      "outputs": [
        {
          "output_type": "execute_result",
          "data": {
            "text/plain": [
              "array(['2018-Q1', '2018-Q2', '2018-Q3', '2018-Q4', '2019-Q1', '2019-Q2',\n",
              "       '2019-Q3', '2019-Q4', '2020-Q1', '2020-Q2', '2020-Q3', '2020-Q4',\n",
              "       '2021-Q1', '2021-Q2', '2021-Q3', '2021-Q4', '2022-Q1', '2022-Q2',\n",
              "       '2022-Q3', '2022-Q4', '2023-Q1'], dtype=object)"
            ]
          },
          "metadata": {},
          "execution_count": 79
        }
      ]
    },
    {
      "cell_type": "code",
      "source": [
        "df_crimes['Quarter'].nunique()"
      ],
      "metadata": {
        "colab": {
          "base_uri": "https://localhost:8080/"
        },
        "id": "JXXiHJpoxCl5",
        "outputId": "e25acf83-bb9e-4622-ef27-73b1281cc75f"
      },
      "execution_count": null,
      "outputs": [
        {
          "output_type": "execute_result",
          "data": {
            "text/plain": [
              "21"
            ]
          },
          "metadata": {},
          "execution_count": 80
        }
      ]
    },
    {
      "cell_type": "code",
      "source": [
        "df_crimes['StatisticCrimeGroup'].unique()"
      ],
      "metadata": {
        "colab": {
          "base_uri": "https://localhost:8080/"
        },
        "id": "sVuSLReRBrGX",
        "outputId": "41e89819-54fa-4c25-aefe-f053a958db4e"
      },
      "execution_count": null,
      "outputs": [
        {
          "output_type": "execute_result",
          "data": {
            "text/plain": [
              "array([nan, 'קבוצת כל השאר', 'עבירות סדר ציבורי', 'עבירות נגד גוף',\n",
              "       'עבירות כלכליות', 'עבירות מרמה', 'עבירות כלפי הרכוש',\n",
              "       'עבירות כלפי המוסר', 'שאר עבירות', 'עבירות מין', 'עבירות תנועה',\n",
              "       'עבירות בטחון', 'סעיפי הגדרה', 'עבירות רשוי', 'עבירות נגד אדם',\n",
              "       'עבירות מנהליות'], dtype=object)"
            ]
          },
          "metadata": {},
          "execution_count": 81
        }
      ]
    },
    {
      "cell_type": "code",
      "source": [
        "df_crimes['StatisticCrimeGroup'].nunique()"
      ],
      "metadata": {
        "colab": {
          "base_uri": "https://localhost:8080/"
        },
        "id": "JNtJDl_5B2MO",
        "outputId": "994a2e5a-ce25-4e79-a5c0-ac83b541b3cd"
      },
      "execution_count": null,
      "outputs": [
        {
          "output_type": "execute_result",
          "data": {
            "text/plain": [
              "15"
            ]
          },
          "metadata": {},
          "execution_count": 82
        }
      ]
    },
    {
      "cell_type": "code",
      "source": [
        "df_crimes['StatisticCrimeType'].unique()"
      ],
      "metadata": {
        "colab": {
          "base_uri": "https://localhost:8080/"
        },
        "id": "jGcCG7veCM4L",
        "outputId": "bf400d93-4da9-4684-e8e8-e34d3aff85c1"
      },
      "execution_count": null,
      "outputs": [
        {
          "output_type": "execute_result",
          "data": {
            "text/plain": [
              "array([nan, 'סטיסטי כל השאר', 'איומים', '(תקיפה (למעט עובדי ציבור',\n",
              "       'עבירות פיסקליות', 'שאר עבירות מרמה', 'גניבת חלקי רכב',\n",
              "       'חטיפת ארנקים', 'מרמה ועושק', 'גניבות אחרות',\n",
              "       'עבירות הנוגעות לנחלת משפט', 'עבירות נגד הסדר הצבורי',\n",
              "       'גניבה מתוך רכב', 'מטרד, רעש וחסימת דרך', 'גרימת נזק לרכוש בזדון',\n",
              "       'עבירות הנוגעות לכרטיסי חיוב', 'התפרצות לבתי עסק ומוסדות',\n",
              "       'תקיפה לשם גניבה', 'חבלה גופנית חמורה', 'הסגות גבול',\n",
              "       'עבירות על חוק הכניסה לישראל', 'תקיפת והכשלת שוטר',\n",
              "       'שמוש בסמים מסוכנים', 'קטטות והפרעות ברחובות',\n",
              "       'שוד בנסיבות חמורות', 'רשלנות ופחזות פלילית',\n",
              "       'גניבה ע\"י עובדים וסוכנים', 'גניבה שמוש רכב ללא רשות',\n",
              "       'גידול,ייצור והפקת-סמים', 'החזקת סמים שלא לצריכה עצמית',\n",
              "       'זיוף מסמכים והפצתם', 'החזקת רכוש גנוב', 'הצתה', 'שאר עבירות',\n",
              "       'סחיטה', 'הטרדה מינית', 'סחר,יבוא ויצוא סמים', 'עבירות טכניות',\n",
              "       'קבלת רכוש גנוב', 'הסתננות', 'עבירות על פקוח כלכלי',\n",
              "       'החזקת כלי פריצה', 'כייסות', 'פגיעה בפרטיות', 'התפרצות לבית דירה',\n",
              "       'מעשה מגונה בכח', 'עבירות נגד המחשב', 'תקיפת שוטר בנסיבות חמורות',\n",
              "       'סעיפי הגדרה', 'תקיפת עובדי צבור בתפקיד', 'עבירות תעבורה',\n",
              "       'חניה אסורה', 'עבירות אחרות כלפי בטחון', 'פרסום דברי תועבה',\n",
              "       'עבירות המסכנות את בריאות הצבור', 'ידוי אבנים', 'אחרים', 'שוד',\n",
              "       'מהירות מופרזת לגבי החוק', 'נהיגה בתקופת פסילה',\n",
              "       'משחקים אסורים והימורים', 'גניבת אופניים', 'הריגה', 'נסיון לרצח',\n",
              "       'מלאכות,תעשיות,עסקים', 'עבירות אחרות כלפי חיי אדם',\n",
              "       'עבירות על חוקי חרום', 'רצח', 'אחר - כלפי גוף אדם',\n",
              "       'עבירות כלפי המוסר', 'אי מתן זכות קדימה לרכב', 'אי ציות לרמזור',\n",
              "       'שאר עבירות הקשורות ברכוש', 'זיוף כסף ובולים', 'עבירות נגד גוף',\n",
              "       'עבירות מנהליות אחרות', 'עבירות נגד הסביבה', 'התקהלות או התאגדות',\n",
              "       'נשק,תחמושת וחמרי נפץ', 'עבירות סדר ציבורי', 'שכרות',\n",
              "       'עבירות המיוחסות לדת', 'השכלה גבוהה', 'עבירות קניין רוחני',\n",
              "       'הצתה על רקע לאומני', 'קניין רוחני', 'הפצת מחלות מין ומחלות אחרות',\n",
              "       'עבירות הקשורות בדיני עבודה', 'הכשלת עובד ציבור',\n",
              "       'אי נקיטת אמצעי בטיחות', 'הקמת מחסום', 'עבירות על חוק עובדים זרים',\n",
              "       'הפרעות במהלך בחירות תקין', 'נהיגה נגד הכוון בחד סטרי',\n",
              "       'שמוש בדרך שלא כחוק', '(עבירות אמל\"ח (אמצעי לחימה',\n",
              "       'נשיאה וייצור סכינים ופגיונות', 'נסיעה לאחור',\n",
              "       'שוטטות למטרות גניבה', 'גרימת מות ברשלנות',\n",
              "       'עבירות הנוגעות לנשואין', 'בגידה ורגול',\n",
              "       'השלכת בקבוק תבערה - בטחון', 'אי ציות לתמרור עצור',\n",
              "       'מעשה מגונה שלא בכח', 'גניבות חקלאיות', 'רדיו וטלויזיה',\n",
              "       'קטטות והפרעות במוסדות', 'משיכת שיק ללא כסוי', 'פניה לא נכונה',\n",
              "       'מסירת סודות רשמיים', 'חניה בתחום מוגבל', 'ספסרות בכרטיסי מופעים',\n",
              "       'התבטאויות גזעניות', 'עבירות כלכליות', 'שוחד', 'אי שמירה על הימין',\n",
              "       'פגיעה בבעלי - חיים', 'עבירות רשוי'], dtype=object)"
            ]
          },
          "metadata": {},
          "execution_count": 83
        }
      ]
    },
    {
      "cell_type": "code",
      "source": [
        "df_crimes['StatisticCrimeType'].nunique()"
      ],
      "metadata": {
        "colab": {
          "base_uri": "https://localhost:8080/"
        },
        "id": "O3JSwoSDCWbi",
        "outputId": "f8c6d245-c7ae-4325-f460-a01794a88dbf"
      },
      "execution_count": null,
      "outputs": [
        {
          "output_type": "execute_result",
          "data": {
            "text/plain": [
              "118"
            ]
          },
          "metadata": {},
          "execution_count": 84
        }
      ]
    },
    {
      "cell_type": "code",
      "source": [
        "df_crimes['TikimSum'].unique()"
      ],
      "metadata": {
        "colab": {
          "base_uri": "https://localhost:8080/"
        },
        "id": "ijYXvWCtCq3w",
        "outputId": "7408c028-b449-49a4-d341-a9ac78054795"
      },
      "execution_count": null,
      "outputs": [
        {
          "output_type": "execute_result",
          "data": {
            "text/plain": [
              "array([ 86,  99, 102,  78,  42,   3,   4,   6,  16,  33,  68,  43,  71,\n",
              "        69,  74,  60,  66,  48,   1,   2,   8,   7,   5,  12,  10,   9,\n",
              "        13,  15,  19,  18,  28,  40,  37,  14,  27,  11,  17,  20,  21,\n",
              "        24,  25,  41,  22,  26,  23,  39,  32,  31,  29,  30,  38,  55,\n",
              "        52,  62,  34,  44,  35,  51,  36,  46,  56,  80, 114,  98,  96,\n",
              "        84,  64,  85,  89,  79,  90,  73,  65, 108,  77,  95,  81,  94,\n",
              "        76,  72,  47,  83, 100,  63])"
            ]
          },
          "metadata": {},
          "execution_count": 85
        }
      ]
    },
    {
      "cell_type": "code",
      "source": [
        "df_crimes['TikimSum'].sum()"
      ],
      "metadata": {
        "colab": {
          "base_uri": "https://localhost:8080/"
        },
        "id": "ZoTZk8o5C3b3",
        "outputId": "39f1448b-e04c-4038-a8c9-5a63b2f0caba"
      },
      "execution_count": null,
      "outputs": [
        {
          "output_type": "execute_result",
          "data": {
            "text/plain": [
              "81481"
            ]
          },
          "metadata": {},
          "execution_count": 86
        }
      ]
    },
    {
      "cell_type": "markdown",
      "source": [
        "#Step 4: Conclude and visualize\n"
      ],
      "metadata": {
        "id": "pN32YgdQGlnq"
      }
    },
    {
      "cell_type": "code",
      "source": [
        "# Calculate the amount of each type of crime over each quarter\n",
        "crime_counts_by_quarter = df_crimes.pivot_table(index='Quarter', columns='StatisticCrimeGroup', values='TikimSum', aggfunc='sum', fill_value=0)\n",
        "\n",
        "# Display the resulting DataFrame\n",
        "crime_counts_by_quarter\n",
        "\n"
      ],
      "metadata": {
        "colab": {
          "base_uri": "https://localhost:8080/",
          "height": 757
        },
        "id": "kOryNG7SwnpN",
        "outputId": "344acbf4-45f0-4eae-e4da-beaa1f9f5a86"
      },
      "execution_count": null,
      "outputs": [
        {
          "output_type": "execute_result",
          "data": {
            "text/plain": [
              "StatisticCrimeGroup  סעיפי הגדרה  עבירות בטחון  עבירות כלכליות  \\\n",
              "Quarter                                                          \n",
              "2018-Q1                        2            11               6   \n",
              "2018-Q2                        2             4               8   \n",
              "2018-Q3                        1             5              15   \n",
              "2018-Q4                        1             2              14   \n",
              "2019-Q1                        1             5              39   \n",
              "2019-Q2                        1             6              37   \n",
              "2019-Q3                        4             6               2   \n",
              "2019-Q4                       34             4               9   \n",
              "2020-Q1                        2             3               8   \n",
              "2020-Q2                        3             2               8   \n",
              "2020-Q3                        0             6               3   \n",
              "2020-Q4                       25             4              20   \n",
              "2021-Q1                        2             4              22   \n",
              "2021-Q2                        1            22              45   \n",
              "2021-Q3                        2             0              56   \n",
              "2021-Q4                        2             6              55   \n",
              "2022-Q1                        2             8              49   \n",
              "2022-Q2                        9             5              49   \n",
              "2022-Q3                        6             8              41   \n",
              "2022-Q4                        8             6              52   \n",
              "2023-Q1                        2             6              47   \n",
              "\n",
              "StatisticCrimeGroup  עבירות כלפי המוסר  עבירות כלפי הרכוש  עבירות מין  \\\n",
              "Quarter                                                                 \n",
              "2018-Q1                            841               1486           5   \n",
              "2018-Q2                            496               1484           5   \n",
              "2018-Q3                            453               1391           1   \n",
              "2018-Q4                            363               1466           3   \n",
              "2019-Q1                            514               1296           5   \n",
              "2019-Q2                            392               1305          80   \n",
              "2019-Q3                            418               1328           8   \n",
              "2019-Q4                            285               1327           4   \n",
              "2020-Q1                            262               1182           1   \n",
              "2020-Q2                            346               1012           8   \n",
              "2020-Q3                            322               1134          16   \n",
              "2020-Q4                            357                986          13   \n",
              "2021-Q1                            293               1084           9   \n",
              "2021-Q2                            236               1473          22   \n",
              "2021-Q3                            192               1253          19   \n",
              "2021-Q4                            273               1280          12   \n",
              "2022-Q1                            352               1181          11   \n",
              "2022-Q2                            146               1142          18   \n",
              "2022-Q3                            216               1058          12   \n",
              "2022-Q4                            233               1326           9   \n",
              "2023-Q1                            158               1447          13   \n",
              "\n",
              "StatisticCrimeGroup  עבירות מנהליות  עבירות מרמה  עבירות נגד אדם  \\\n",
              "Quarter                                                            \n",
              "2018-Q1                           1          141               6   \n",
              "2018-Q2                           0          222               1   \n",
              "2018-Q3                           2          179               3   \n",
              "2018-Q4                           0          167               2   \n",
              "2019-Q1                           1          196               3   \n",
              "2019-Q2                           2          163               6   \n",
              "2019-Q3                           2          150               7   \n",
              "2019-Q4                           3          230               7   \n",
              "2020-Q1                           0          199               6   \n",
              "2020-Q2                           0          209               3   \n",
              "2020-Q3                           2          209               2   \n",
              "2020-Q4                           1          118               5   \n",
              "2021-Q1                           1          111               5   \n",
              "2021-Q2                           0          133               7   \n",
              "2021-Q3                           1          112              10   \n",
              "2021-Q4                           2          166               4   \n",
              "2022-Q1                           3          204               5   \n",
              "2022-Q2                           1          153               3   \n",
              "2022-Q3                           1          156               3   \n",
              "2022-Q4                           4          131               6   \n",
              "2023-Q1                           1          115               3   \n",
              "\n",
              "StatisticCrimeGroup  עבירות נגד גוף  עבירות סדר ציבורי  עבירות רשוי  \\\n",
              "Quarter                                                               \n",
              "2018-Q1                         553               1223            5   \n",
              "2018-Q2                         561               1314            5   \n",
              "2018-Q3                         551               1264            0   \n",
              "2018-Q4                         497               1250            2   \n",
              "2019-Q1                         475               1158            1   \n",
              "2019-Q2                         554               1159            6   \n",
              "2019-Q3                         524               1198            2   \n",
              "2019-Q4                         468               1025            9   \n",
              "2020-Q1                         486               1147            8   \n",
              "2020-Q2                         549               1308            9   \n",
              "2020-Q3                         547               1221            8   \n",
              "2020-Q4                         516               1267           12   \n",
              "2021-Q1                         455               1169           18   \n",
              "2021-Q2                         537               1220           12   \n",
              "2021-Q3                         499               1058            3   \n",
              "2021-Q4                         441               1243            3   \n",
              "2022-Q1                         385               1021           12   \n",
              "2022-Q2                         485               1159           10   \n",
              "2022-Q3                         511               1099           15   \n",
              "2022-Q4                         449               1040           13   \n",
              "2023-Q1                         449               1096           13   \n",
              "\n",
              "StatisticCrimeGroup  עבירות תנועה  קבוצת כל השאר  שאר עבירות  \n",
              "Quarter                                                       \n",
              "2018-Q1                        25             89           0  \n",
              "2018-Q2                         6            108           0  \n",
              "2018-Q3                         6             73           0  \n",
              "2018-Q4                        10            108           0  \n",
              "2019-Q1                        18            116           0  \n",
              "2019-Q2                         5             73           0  \n",
              "2019-Q3                        14             97           1  \n",
              "2019-Q4                         8            102           2  \n",
              "2020-Q1                         9             59           0  \n",
              "2020-Q2                        13            100           0  \n",
              "2020-Q3                        17            129           0  \n",
              "2020-Q4                         2             90           0  \n",
              "2021-Q1                        24            123           0  \n",
              "2021-Q2                         6            134           0  \n",
              "2021-Q3                        12             80           0  \n",
              "2021-Q4                         9             82           0  \n",
              "2022-Q1                        15            101           0  \n",
              "2022-Q2                         2             96           0  \n",
              "2022-Q3                        15             70           1  \n",
              "2022-Q4                        10             63           1  \n",
              "2023-Q1                        14             99           1  "
            ],
            "text/html": [
              "\n",
              "  <div id=\"df-b0ac06b5-b119-4ba9-b5ac-c47dd5db6ed0\" class=\"colab-df-container\">\n",
              "    <div>\n",
              "<style scoped>\n",
              "    .dataframe tbody tr th:only-of-type {\n",
              "        vertical-align: middle;\n",
              "    }\n",
              "\n",
              "    .dataframe tbody tr th {\n",
              "        vertical-align: top;\n",
              "    }\n",
              "\n",
              "    .dataframe thead th {\n",
              "        text-align: right;\n",
              "    }\n",
              "</style>\n",
              "<table border=\"1\" class=\"dataframe\">\n",
              "  <thead>\n",
              "    <tr style=\"text-align: right;\">\n",
              "      <th>StatisticCrimeGroup</th>\n",
              "      <th>סעיפי הגדרה</th>\n",
              "      <th>עבירות בטחון</th>\n",
              "      <th>עבירות כלכליות</th>\n",
              "      <th>עבירות כלפי המוסר</th>\n",
              "      <th>עבירות כלפי הרכוש</th>\n",
              "      <th>עבירות מין</th>\n",
              "      <th>עבירות מנהליות</th>\n",
              "      <th>עבירות מרמה</th>\n",
              "      <th>עבירות נגד אדם</th>\n",
              "      <th>עבירות נגד גוף</th>\n",
              "      <th>עבירות סדר ציבורי</th>\n",
              "      <th>עבירות רשוי</th>\n",
              "      <th>עבירות תנועה</th>\n",
              "      <th>קבוצת כל השאר</th>\n",
              "      <th>שאר עבירות</th>\n",
              "    </tr>\n",
              "    <tr>\n",
              "      <th>Quarter</th>\n",
              "      <th></th>\n",
              "      <th></th>\n",
              "      <th></th>\n",
              "      <th></th>\n",
              "      <th></th>\n",
              "      <th></th>\n",
              "      <th></th>\n",
              "      <th></th>\n",
              "      <th></th>\n",
              "      <th></th>\n",
              "      <th></th>\n",
              "      <th></th>\n",
              "      <th></th>\n",
              "      <th></th>\n",
              "      <th></th>\n",
              "    </tr>\n",
              "  </thead>\n",
              "  <tbody>\n",
              "    <tr>\n",
              "      <th>2018-Q1</th>\n",
              "      <td>2</td>\n",
              "      <td>11</td>\n",
              "      <td>6</td>\n",
              "      <td>841</td>\n",
              "      <td>1486</td>\n",
              "      <td>5</td>\n",
              "      <td>1</td>\n",
              "      <td>141</td>\n",
              "      <td>6</td>\n",
              "      <td>553</td>\n",
              "      <td>1223</td>\n",
              "      <td>5</td>\n",
              "      <td>25</td>\n",
              "      <td>89</td>\n",
              "      <td>0</td>\n",
              "    </tr>\n",
              "    <tr>\n",
              "      <th>2018-Q2</th>\n",
              "      <td>2</td>\n",
              "      <td>4</td>\n",
              "      <td>8</td>\n",
              "      <td>496</td>\n",
              "      <td>1484</td>\n",
              "      <td>5</td>\n",
              "      <td>0</td>\n",
              "      <td>222</td>\n",
              "      <td>1</td>\n",
              "      <td>561</td>\n",
              "      <td>1314</td>\n",
              "      <td>5</td>\n",
              "      <td>6</td>\n",
              "      <td>108</td>\n",
              "      <td>0</td>\n",
              "    </tr>\n",
              "    <tr>\n",
              "      <th>2018-Q3</th>\n",
              "      <td>1</td>\n",
              "      <td>5</td>\n",
              "      <td>15</td>\n",
              "      <td>453</td>\n",
              "      <td>1391</td>\n",
              "      <td>1</td>\n",
              "      <td>2</td>\n",
              "      <td>179</td>\n",
              "      <td>3</td>\n",
              "      <td>551</td>\n",
              "      <td>1264</td>\n",
              "      <td>0</td>\n",
              "      <td>6</td>\n",
              "      <td>73</td>\n",
              "      <td>0</td>\n",
              "    </tr>\n",
              "    <tr>\n",
              "      <th>2018-Q4</th>\n",
              "      <td>1</td>\n",
              "      <td>2</td>\n",
              "      <td>14</td>\n",
              "      <td>363</td>\n",
              "      <td>1466</td>\n",
              "      <td>3</td>\n",
              "      <td>0</td>\n",
              "      <td>167</td>\n",
              "      <td>2</td>\n",
              "      <td>497</td>\n",
              "      <td>1250</td>\n",
              "      <td>2</td>\n",
              "      <td>10</td>\n",
              "      <td>108</td>\n",
              "      <td>0</td>\n",
              "    </tr>\n",
              "    <tr>\n",
              "      <th>2019-Q1</th>\n",
              "      <td>1</td>\n",
              "      <td>5</td>\n",
              "      <td>39</td>\n",
              "      <td>514</td>\n",
              "      <td>1296</td>\n",
              "      <td>5</td>\n",
              "      <td>1</td>\n",
              "      <td>196</td>\n",
              "      <td>3</td>\n",
              "      <td>475</td>\n",
              "      <td>1158</td>\n",
              "      <td>1</td>\n",
              "      <td>18</td>\n",
              "      <td>116</td>\n",
              "      <td>0</td>\n",
              "    </tr>\n",
              "    <tr>\n",
              "      <th>2019-Q2</th>\n",
              "      <td>1</td>\n",
              "      <td>6</td>\n",
              "      <td>37</td>\n",
              "      <td>392</td>\n",
              "      <td>1305</td>\n",
              "      <td>80</td>\n",
              "      <td>2</td>\n",
              "      <td>163</td>\n",
              "      <td>6</td>\n",
              "      <td>554</td>\n",
              "      <td>1159</td>\n",
              "      <td>6</td>\n",
              "      <td>5</td>\n",
              "      <td>73</td>\n",
              "      <td>0</td>\n",
              "    </tr>\n",
              "    <tr>\n",
              "      <th>2019-Q3</th>\n",
              "      <td>4</td>\n",
              "      <td>6</td>\n",
              "      <td>2</td>\n",
              "      <td>418</td>\n",
              "      <td>1328</td>\n",
              "      <td>8</td>\n",
              "      <td>2</td>\n",
              "      <td>150</td>\n",
              "      <td>7</td>\n",
              "      <td>524</td>\n",
              "      <td>1198</td>\n",
              "      <td>2</td>\n",
              "      <td>14</td>\n",
              "      <td>97</td>\n",
              "      <td>1</td>\n",
              "    </tr>\n",
              "    <tr>\n",
              "      <th>2019-Q4</th>\n",
              "      <td>34</td>\n",
              "      <td>4</td>\n",
              "      <td>9</td>\n",
              "      <td>285</td>\n",
              "      <td>1327</td>\n",
              "      <td>4</td>\n",
              "      <td>3</td>\n",
              "      <td>230</td>\n",
              "      <td>7</td>\n",
              "      <td>468</td>\n",
              "      <td>1025</td>\n",
              "      <td>9</td>\n",
              "      <td>8</td>\n",
              "      <td>102</td>\n",
              "      <td>2</td>\n",
              "    </tr>\n",
              "    <tr>\n",
              "      <th>2020-Q1</th>\n",
              "      <td>2</td>\n",
              "      <td>3</td>\n",
              "      <td>8</td>\n",
              "      <td>262</td>\n",
              "      <td>1182</td>\n",
              "      <td>1</td>\n",
              "      <td>0</td>\n",
              "      <td>199</td>\n",
              "      <td>6</td>\n",
              "      <td>486</td>\n",
              "      <td>1147</td>\n",
              "      <td>8</td>\n",
              "      <td>9</td>\n",
              "      <td>59</td>\n",
              "      <td>0</td>\n",
              "    </tr>\n",
              "    <tr>\n",
              "      <th>2020-Q2</th>\n",
              "      <td>3</td>\n",
              "      <td>2</td>\n",
              "      <td>8</td>\n",
              "      <td>346</td>\n",
              "      <td>1012</td>\n",
              "      <td>8</td>\n",
              "      <td>0</td>\n",
              "      <td>209</td>\n",
              "      <td>3</td>\n",
              "      <td>549</td>\n",
              "      <td>1308</td>\n",
              "      <td>9</td>\n",
              "      <td>13</td>\n",
              "      <td>100</td>\n",
              "      <td>0</td>\n",
              "    </tr>\n",
              "    <tr>\n",
              "      <th>2020-Q3</th>\n",
              "      <td>0</td>\n",
              "      <td>6</td>\n",
              "      <td>3</td>\n",
              "      <td>322</td>\n",
              "      <td>1134</td>\n",
              "      <td>16</td>\n",
              "      <td>2</td>\n",
              "      <td>209</td>\n",
              "      <td>2</td>\n",
              "      <td>547</td>\n",
              "      <td>1221</td>\n",
              "      <td>8</td>\n",
              "      <td>17</td>\n",
              "      <td>129</td>\n",
              "      <td>0</td>\n",
              "    </tr>\n",
              "    <tr>\n",
              "      <th>2020-Q4</th>\n",
              "      <td>25</td>\n",
              "      <td>4</td>\n",
              "      <td>20</td>\n",
              "      <td>357</td>\n",
              "      <td>986</td>\n",
              "      <td>13</td>\n",
              "      <td>1</td>\n",
              "      <td>118</td>\n",
              "      <td>5</td>\n",
              "      <td>516</td>\n",
              "      <td>1267</td>\n",
              "      <td>12</td>\n",
              "      <td>2</td>\n",
              "      <td>90</td>\n",
              "      <td>0</td>\n",
              "    </tr>\n",
              "    <tr>\n",
              "      <th>2021-Q1</th>\n",
              "      <td>2</td>\n",
              "      <td>4</td>\n",
              "      <td>22</td>\n",
              "      <td>293</td>\n",
              "      <td>1084</td>\n",
              "      <td>9</td>\n",
              "      <td>1</td>\n",
              "      <td>111</td>\n",
              "      <td>5</td>\n",
              "      <td>455</td>\n",
              "      <td>1169</td>\n",
              "      <td>18</td>\n",
              "      <td>24</td>\n",
              "      <td>123</td>\n",
              "      <td>0</td>\n",
              "    </tr>\n",
              "    <tr>\n",
              "      <th>2021-Q2</th>\n",
              "      <td>1</td>\n",
              "      <td>22</td>\n",
              "      <td>45</td>\n",
              "      <td>236</td>\n",
              "      <td>1473</td>\n",
              "      <td>22</td>\n",
              "      <td>0</td>\n",
              "      <td>133</td>\n",
              "      <td>7</td>\n",
              "      <td>537</td>\n",
              "      <td>1220</td>\n",
              "      <td>12</td>\n",
              "      <td>6</td>\n",
              "      <td>134</td>\n",
              "      <td>0</td>\n",
              "    </tr>\n",
              "    <tr>\n",
              "      <th>2021-Q3</th>\n",
              "      <td>2</td>\n",
              "      <td>0</td>\n",
              "      <td>56</td>\n",
              "      <td>192</td>\n",
              "      <td>1253</td>\n",
              "      <td>19</td>\n",
              "      <td>1</td>\n",
              "      <td>112</td>\n",
              "      <td>10</td>\n",
              "      <td>499</td>\n",
              "      <td>1058</td>\n",
              "      <td>3</td>\n",
              "      <td>12</td>\n",
              "      <td>80</td>\n",
              "      <td>0</td>\n",
              "    </tr>\n",
              "    <tr>\n",
              "      <th>2021-Q4</th>\n",
              "      <td>2</td>\n",
              "      <td>6</td>\n",
              "      <td>55</td>\n",
              "      <td>273</td>\n",
              "      <td>1280</td>\n",
              "      <td>12</td>\n",
              "      <td>2</td>\n",
              "      <td>166</td>\n",
              "      <td>4</td>\n",
              "      <td>441</td>\n",
              "      <td>1243</td>\n",
              "      <td>3</td>\n",
              "      <td>9</td>\n",
              "      <td>82</td>\n",
              "      <td>0</td>\n",
              "    </tr>\n",
              "    <tr>\n",
              "      <th>2022-Q1</th>\n",
              "      <td>2</td>\n",
              "      <td>8</td>\n",
              "      <td>49</td>\n",
              "      <td>352</td>\n",
              "      <td>1181</td>\n",
              "      <td>11</td>\n",
              "      <td>3</td>\n",
              "      <td>204</td>\n",
              "      <td>5</td>\n",
              "      <td>385</td>\n",
              "      <td>1021</td>\n",
              "      <td>12</td>\n",
              "      <td>15</td>\n",
              "      <td>101</td>\n",
              "      <td>0</td>\n",
              "    </tr>\n",
              "    <tr>\n",
              "      <th>2022-Q2</th>\n",
              "      <td>9</td>\n",
              "      <td>5</td>\n",
              "      <td>49</td>\n",
              "      <td>146</td>\n",
              "      <td>1142</td>\n",
              "      <td>18</td>\n",
              "      <td>1</td>\n",
              "      <td>153</td>\n",
              "      <td>3</td>\n",
              "      <td>485</td>\n",
              "      <td>1159</td>\n",
              "      <td>10</td>\n",
              "      <td>2</td>\n",
              "      <td>96</td>\n",
              "      <td>0</td>\n",
              "    </tr>\n",
              "    <tr>\n",
              "      <th>2022-Q3</th>\n",
              "      <td>6</td>\n",
              "      <td>8</td>\n",
              "      <td>41</td>\n",
              "      <td>216</td>\n",
              "      <td>1058</td>\n",
              "      <td>12</td>\n",
              "      <td>1</td>\n",
              "      <td>156</td>\n",
              "      <td>3</td>\n",
              "      <td>511</td>\n",
              "      <td>1099</td>\n",
              "      <td>15</td>\n",
              "      <td>15</td>\n",
              "      <td>70</td>\n",
              "      <td>1</td>\n",
              "    </tr>\n",
              "    <tr>\n",
              "      <th>2022-Q4</th>\n",
              "      <td>8</td>\n",
              "      <td>6</td>\n",
              "      <td>52</td>\n",
              "      <td>233</td>\n",
              "      <td>1326</td>\n",
              "      <td>9</td>\n",
              "      <td>4</td>\n",
              "      <td>131</td>\n",
              "      <td>6</td>\n",
              "      <td>449</td>\n",
              "      <td>1040</td>\n",
              "      <td>13</td>\n",
              "      <td>10</td>\n",
              "      <td>63</td>\n",
              "      <td>1</td>\n",
              "    </tr>\n",
              "    <tr>\n",
              "      <th>2023-Q1</th>\n",
              "      <td>2</td>\n",
              "      <td>6</td>\n",
              "      <td>47</td>\n",
              "      <td>158</td>\n",
              "      <td>1447</td>\n",
              "      <td>13</td>\n",
              "      <td>1</td>\n",
              "      <td>115</td>\n",
              "      <td>3</td>\n",
              "      <td>449</td>\n",
              "      <td>1096</td>\n",
              "      <td>13</td>\n",
              "      <td>14</td>\n",
              "      <td>99</td>\n",
              "      <td>1</td>\n",
              "    </tr>\n",
              "  </tbody>\n",
              "</table>\n",
              "</div>\n",
              "    <div class=\"colab-df-buttons\">\n",
              "\n",
              "  <div class=\"colab-df-container\">\n",
              "    <button class=\"colab-df-convert\" onclick=\"convertToInteractive('df-b0ac06b5-b119-4ba9-b5ac-c47dd5db6ed0')\"\n",
              "            title=\"Convert this dataframe to an interactive table.\"\n",
              "            style=\"display:none;\">\n",
              "\n",
              "  <svg xmlns=\"http://www.w3.org/2000/svg\" height=\"24px\" viewBox=\"0 -960 960 960\">\n",
              "    <path d=\"M120-120v-720h720v720H120Zm60-500h600v-160H180v160Zm220 220h160v-160H400v160Zm0 220h160v-160H400v160ZM180-400h160v-160H180v160Zm440 0h160v-160H620v160ZM180-180h160v-160H180v160Zm440 0h160v-160H620v160Z\"/>\n",
              "  </svg>\n",
              "    </button>\n",
              "\n",
              "  <style>\n",
              "    .colab-df-container {\n",
              "      display:flex;\n",
              "      gap: 12px;\n",
              "    }\n",
              "\n",
              "    .colab-df-convert {\n",
              "      background-color: #E8F0FE;\n",
              "      border: none;\n",
              "      border-radius: 50%;\n",
              "      cursor: pointer;\n",
              "      display: none;\n",
              "      fill: #1967D2;\n",
              "      height: 32px;\n",
              "      padding: 0 0 0 0;\n",
              "      width: 32px;\n",
              "    }\n",
              "\n",
              "    .colab-df-convert:hover {\n",
              "      background-color: #E2EBFA;\n",
              "      box-shadow: 0px 1px 2px rgba(60, 64, 67, 0.3), 0px 1px 3px 1px rgba(60, 64, 67, 0.15);\n",
              "      fill: #174EA6;\n",
              "    }\n",
              "\n",
              "    .colab-df-buttons div {\n",
              "      margin-bottom: 4px;\n",
              "    }\n",
              "\n",
              "    [theme=dark] .colab-df-convert {\n",
              "      background-color: #3B4455;\n",
              "      fill: #D2E3FC;\n",
              "    }\n",
              "\n",
              "    [theme=dark] .colab-df-convert:hover {\n",
              "      background-color: #434B5C;\n",
              "      box-shadow: 0px 1px 3px 1px rgba(0, 0, 0, 0.15);\n",
              "      filter: drop-shadow(0px 1px 2px rgba(0, 0, 0, 0.3));\n",
              "      fill: #FFFFFF;\n",
              "    }\n",
              "  </style>\n",
              "\n",
              "    <script>\n",
              "      const buttonEl =\n",
              "        document.querySelector('#df-b0ac06b5-b119-4ba9-b5ac-c47dd5db6ed0 button.colab-df-convert');\n",
              "      buttonEl.style.display =\n",
              "        google.colab.kernel.accessAllowed ? 'block' : 'none';\n",
              "\n",
              "      async function convertToInteractive(key) {\n",
              "        const element = document.querySelector('#df-b0ac06b5-b119-4ba9-b5ac-c47dd5db6ed0');\n",
              "        const dataTable =\n",
              "          await google.colab.kernel.invokeFunction('convertToInteractive',\n",
              "                                                    [key], {});\n",
              "        if (!dataTable) return;\n",
              "\n",
              "        const docLinkHtml = 'Like what you see? Visit the ' +\n",
              "          '<a target=\"_blank\" href=https://colab.research.google.com/notebooks/data_table.ipynb>data table notebook</a>'\n",
              "          + ' to learn more about interactive tables.';\n",
              "        element.innerHTML = '';\n",
              "        dataTable['output_type'] = 'display_data';\n",
              "        await google.colab.output.renderOutput(dataTable, element);\n",
              "        const docLink = document.createElement('div');\n",
              "        docLink.innerHTML = docLinkHtml;\n",
              "        element.appendChild(docLink);\n",
              "      }\n",
              "    </script>\n",
              "  </div>\n",
              "\n",
              "\n",
              "<div id=\"df-af53abe0-f965-4501-93b2-55756bdfa1f8\">\n",
              "  <button class=\"colab-df-quickchart\" onclick=\"quickchart('df-af53abe0-f965-4501-93b2-55756bdfa1f8')\"\n",
              "            title=\"Suggest charts\"\n",
              "            style=\"display:none;\">\n",
              "\n",
              "<svg xmlns=\"http://www.w3.org/2000/svg\" height=\"24px\"viewBox=\"0 0 24 24\"\n",
              "     width=\"24px\">\n",
              "    <g>\n",
              "        <path d=\"M19 3H5c-1.1 0-2 .9-2 2v14c0 1.1.9 2 2 2h14c1.1 0 2-.9 2-2V5c0-1.1-.9-2-2-2zM9 17H7v-7h2v7zm4 0h-2V7h2v10zm4 0h-2v-4h2v4z\"/>\n",
              "    </g>\n",
              "</svg>\n",
              "  </button>\n",
              "\n",
              "<style>\n",
              "  .colab-df-quickchart {\n",
              "      --bg-color: #E8F0FE;\n",
              "      --fill-color: #1967D2;\n",
              "      --hover-bg-color: #E2EBFA;\n",
              "      --hover-fill-color: #174EA6;\n",
              "      --disabled-fill-color: #AAA;\n",
              "      --disabled-bg-color: #DDD;\n",
              "  }\n",
              "\n",
              "  [theme=dark] .colab-df-quickchart {\n",
              "      --bg-color: #3B4455;\n",
              "      --fill-color: #D2E3FC;\n",
              "      --hover-bg-color: #434B5C;\n",
              "      --hover-fill-color: #FFFFFF;\n",
              "      --disabled-bg-color: #3B4455;\n",
              "      --disabled-fill-color: #666;\n",
              "  }\n",
              "\n",
              "  .colab-df-quickchart {\n",
              "    background-color: var(--bg-color);\n",
              "    border: none;\n",
              "    border-radius: 50%;\n",
              "    cursor: pointer;\n",
              "    display: none;\n",
              "    fill: var(--fill-color);\n",
              "    height: 32px;\n",
              "    padding: 0;\n",
              "    width: 32px;\n",
              "  }\n",
              "\n",
              "  .colab-df-quickchart:hover {\n",
              "    background-color: var(--hover-bg-color);\n",
              "    box-shadow: 0 1px 2px rgba(60, 64, 67, 0.3), 0 1px 3px 1px rgba(60, 64, 67, 0.15);\n",
              "    fill: var(--button-hover-fill-color);\n",
              "  }\n",
              "\n",
              "  .colab-df-quickchart-complete:disabled,\n",
              "  .colab-df-quickchart-complete:disabled:hover {\n",
              "    background-color: var(--disabled-bg-color);\n",
              "    fill: var(--disabled-fill-color);\n",
              "    box-shadow: none;\n",
              "  }\n",
              "\n",
              "  .colab-df-spinner {\n",
              "    border: 2px solid var(--fill-color);\n",
              "    border-color: transparent;\n",
              "    border-bottom-color: var(--fill-color);\n",
              "    animation:\n",
              "      spin 1s steps(1) infinite;\n",
              "  }\n",
              "\n",
              "  @keyframes spin {\n",
              "    0% {\n",
              "      border-color: transparent;\n",
              "      border-bottom-color: var(--fill-color);\n",
              "      border-left-color: var(--fill-color);\n",
              "    }\n",
              "    20% {\n",
              "      border-color: transparent;\n",
              "      border-left-color: var(--fill-color);\n",
              "      border-top-color: var(--fill-color);\n",
              "    }\n",
              "    30% {\n",
              "      border-color: transparent;\n",
              "      border-left-color: var(--fill-color);\n",
              "      border-top-color: var(--fill-color);\n",
              "      border-right-color: var(--fill-color);\n",
              "    }\n",
              "    40% {\n",
              "      border-color: transparent;\n",
              "      border-right-color: var(--fill-color);\n",
              "      border-top-color: var(--fill-color);\n",
              "    }\n",
              "    60% {\n",
              "      border-color: transparent;\n",
              "      border-right-color: var(--fill-color);\n",
              "    }\n",
              "    80% {\n",
              "      border-color: transparent;\n",
              "      border-right-color: var(--fill-color);\n",
              "      border-bottom-color: var(--fill-color);\n",
              "    }\n",
              "    90% {\n",
              "      border-color: transparent;\n",
              "      border-bottom-color: var(--fill-color);\n",
              "    }\n",
              "  }\n",
              "</style>\n",
              "\n",
              "  <script>\n",
              "    async function quickchart(key) {\n",
              "      const quickchartButtonEl =\n",
              "        document.querySelector('#' + key + ' button');\n",
              "      quickchartButtonEl.disabled = true;  // To prevent multiple clicks.\n",
              "      quickchartButtonEl.classList.add('colab-df-spinner');\n",
              "      try {\n",
              "        const charts = await google.colab.kernel.invokeFunction(\n",
              "            'suggestCharts', [key], {});\n",
              "      } catch (error) {\n",
              "        console.error('Error during call to suggestCharts:', error);\n",
              "      }\n",
              "      quickchartButtonEl.classList.remove('colab-df-spinner');\n",
              "      quickchartButtonEl.classList.add('colab-df-quickchart-complete');\n",
              "    }\n",
              "    (() => {\n",
              "      let quickchartButtonEl =\n",
              "        document.querySelector('#df-af53abe0-f965-4501-93b2-55756bdfa1f8 button');\n",
              "      quickchartButtonEl.style.display =\n",
              "        google.colab.kernel.accessAllowed ? 'block' : 'none';\n",
              "    })();\n",
              "  </script>\n",
              "</div>\n",
              "\n",
              "  <div id=\"id_657aac4c-7b40-483d-b55c-430c7ebf3621\">\n",
              "    <style>\n",
              "      .colab-df-generate {\n",
              "        background-color: #E8F0FE;\n",
              "        border: none;\n",
              "        border-radius: 50%;\n",
              "        cursor: pointer;\n",
              "        display: none;\n",
              "        fill: #1967D2;\n",
              "        height: 32px;\n",
              "        padding: 0 0 0 0;\n",
              "        width: 32px;\n",
              "      }\n",
              "\n",
              "      .colab-df-generate:hover {\n",
              "        background-color: #E2EBFA;\n",
              "        box-shadow: 0px 1px 2px rgba(60, 64, 67, 0.3), 0px 1px 3px 1px rgba(60, 64, 67, 0.15);\n",
              "        fill: #174EA6;\n",
              "      }\n",
              "\n",
              "      [theme=dark] .colab-df-generate {\n",
              "        background-color: #3B4455;\n",
              "        fill: #D2E3FC;\n",
              "      }\n",
              "\n",
              "      [theme=dark] .colab-df-generate:hover {\n",
              "        background-color: #434B5C;\n",
              "        box-shadow: 0px 1px 3px 1px rgba(0, 0, 0, 0.15);\n",
              "        filter: drop-shadow(0px 1px 2px rgba(0, 0, 0, 0.3));\n",
              "        fill: #FFFFFF;\n",
              "      }\n",
              "    </style>\n",
              "    <button class=\"colab-df-generate\" onclick=\"generateWithVariable('crime_counts_by_quarter')\"\n",
              "            title=\"Generate code using this dataframe.\"\n",
              "            style=\"display:none;\">\n",
              "\n",
              "  <svg xmlns=\"http://www.w3.org/2000/svg\" height=\"24px\"viewBox=\"0 0 24 24\"\n",
              "       width=\"24px\">\n",
              "    <path d=\"M7,19H8.4L18.45,9,17,7.55,7,17.6ZM5,21V16.75L18.45,3.32a2,2,0,0,1,2.83,0l1.4,1.43a1.91,1.91,0,0,1,.58,1.4,1.91,1.91,0,0,1-.58,1.4L9.25,21ZM18.45,9,17,7.55Zm-12,3A5.31,5.31,0,0,0,4.9,8.1,5.31,5.31,0,0,0,1,6.5,5.31,5.31,0,0,0,4.9,4.9,5.31,5.31,0,0,0,6.5,1,5.31,5.31,0,0,0,8.1,4.9,5.31,5.31,0,0,0,12,6.5,5.46,5.46,0,0,0,6.5,12Z\"/>\n",
              "  </svg>\n",
              "    </button>\n",
              "    <script>\n",
              "      (() => {\n",
              "      const buttonEl =\n",
              "        document.querySelector('#id_657aac4c-7b40-483d-b55c-430c7ebf3621 button.colab-df-generate');\n",
              "      buttonEl.style.display =\n",
              "        google.colab.kernel.accessAllowed ? 'block' : 'none';\n",
              "\n",
              "      buttonEl.onclick = () => {\n",
              "        google.colab.notebook.generateWithVariable('crime_counts_by_quarter');\n",
              "      }\n",
              "      })();\n",
              "    </script>\n",
              "  </div>\n",
              "\n",
              "    </div>\n",
              "  </div>\n"
            ],
            "application/vnd.google.colaboratory.intrinsic+json": {
              "type": "dataframe",
              "variable_name": "crime_counts_by_quarter",
              "summary": "{\n  \"name\": \"crime_counts_by_quarter\",\n  \"rows\": 21,\n  \"fields\": [\n    {\n      \"column\": \"Quarter\",\n      \"properties\": {\n        \"dtype\": \"object\",\n        \"num_unique_values\": 21,\n        \"samples\": [\n          \"2018-Q1\",\n          \"2022-Q2\",\n          \"2021-Q4\"\n        ],\n        \"semantic_type\": \"\",\n        \"description\": \"\"\n      }\n    },\n    {\n      \"column\": \"\\u05e1\\u05e2\\u05d9\\u05e4\\u05d9 \\u05d4\\u05d2\\u05d3\\u05e8\\u05d4\",\n      \"properties\": {\n        \"dtype\": \"number\",\n        \"std\": 8,\n        \"min\": 0,\n        \"max\": 34,\n        \"num_unique_values\": 10,\n        \"samples\": [\n          6,\n          1,\n          0\n        ],\n        \"semantic_type\": \"\",\n        \"description\": \"\"\n      }\n    },\n    {\n      \"column\": \"\\u05e2\\u05d1\\u05d9\\u05e8\\u05d5\\u05ea \\u05d1\\u05d8\\u05d7\\u05d5\\u05df\",\n      \"properties\": {\n        \"dtype\": \"number\",\n        \"std\": 4,\n        \"min\": 0,\n        \"max\": 22,\n        \"num_unique_values\": 9,\n        \"samples\": [\n          0,\n          4,\n          3\n        ],\n        \"semantic_type\": \"\",\n        \"description\": \"\"\n      }\n    },\n    {\n      \"column\": \"\\u05e2\\u05d1\\u05d9\\u05e8\\u05d5\\u05ea \\u05db\\u05dc\\u05db\\u05dc\\u05d9\\u05d5\\u05ea\",\n      \"properties\": {\n        \"dtype\": \"number\",\n        \"std\": 19,\n        \"min\": 2,\n        \"max\": 56,\n        \"num_unique_values\": 18,\n        \"samples\": [\n          6,\n          8,\n          3\n        ],\n        \"semantic_type\": \"\",\n        \"description\": \"\"\n      }\n    },\n    {\n      \"column\": \"\\u05e2\\u05d1\\u05d9\\u05e8\\u05d5\\u05ea \\u05db\\u05dc\\u05e4\\u05d9 \\u05d4\\u05de\\u05d5\\u05e1\\u05e8\",\n      \"properties\": {\n        \"dtype\": \"number\",\n        \"std\": 154,\n        \"min\": 146,\n        \"max\": 841,\n        \"num_unique_values\": 21,\n        \"samples\": [\n          841,\n          146,\n          273\n        ],\n        \"semantic_type\": \"\",\n        \"description\": \"\"\n      }\n    },\n    {\n      \"column\": \"\\u05e2\\u05d1\\u05d9\\u05e8\\u05d5\\u05ea \\u05db\\u05dc\\u05e4\\u05d9 \\u05d4\\u05e8\\u05db\\u05d5\\u05e9\",\n      \"properties\": {\n        \"dtype\": \"number\",\n        \"std\": 159,\n        \"min\": 986,\n        \"max\": 1486,\n        \"num_unique_values\": 21,\n        \"samples\": [\n          1486,\n          1142,\n          1280\n        ],\n        \"semantic_type\": \"\",\n        \"description\": \"\"\n      }\n    },\n    {\n      \"column\": \"\\u05e2\\u05d1\\u05d9\\u05e8\\u05d5\\u05ea \\u05de\\u05d9\\u05df\",\n      \"properties\": {\n        \"dtype\": \"number\",\n        \"std\": 16,\n        \"min\": 1,\n        \"max\": 80,\n        \"num_unique_values\": 14,\n        \"samples\": [\n          22,\n          12,\n          5\n        ],\n        \"semantic_type\": \"\",\n        \"description\": \"\"\n      }\n    },\n    {\n      \"column\": \"\\u05e2\\u05d1\\u05d9\\u05e8\\u05d5\\u05ea \\u05de\\u05e0\\u05d4\\u05dc\\u05d9\\u05d5\\u05ea\",\n      \"properties\": {\n        \"dtype\": \"number\",\n        \"std\": 1,\n        \"min\": 0,\n        \"max\": 4,\n        \"num_unique_values\": 5,\n        \"samples\": [\n          0,\n          4,\n          2\n        ],\n        \"semantic_type\": \"\",\n        \"description\": \"\"\n      }\n    },\n    {\n      \"column\": \"\\u05e2\\u05d1\\u05d9\\u05e8\\u05d5\\u05ea \\u05de\\u05e8\\u05de\\u05d4\",\n      \"properties\": {\n        \"dtype\": \"number\",\n        \"std\": 37,\n        \"min\": 111,\n        \"max\": 230,\n        \"num_unique_values\": 20,\n        \"samples\": [\n          141,\n          156,\n          204\n        ],\n        \"semantic_type\": \"\",\n        \"description\": \"\"\n      }\n    },\n    {\n      \"column\": \"\\u05e2\\u05d1\\u05d9\\u05e8\\u05d5\\u05ea \\u05e0\\u05d2\\u05d3 \\u05d0\\u05d3\\u05dd\",\n      \"properties\": {\n        \"dtype\": \"number\",\n        \"std\": 2,\n        \"min\": 1,\n        \"max\": 10,\n        \"num_unique_values\": 8,\n        \"samples\": [\n          1,\n          5,\n          6\n        ],\n        \"semantic_type\": \"\",\n        \"description\": \"\"\n      }\n    },\n    {\n      \"column\": \"\\u05e2\\u05d1\\u05d9\\u05e8\\u05d5\\u05ea \\u05e0\\u05d2\\u05d3 \\u05d2\\u05d5\\u05e3\",\n      \"properties\": {\n        \"dtype\": \"number\",\n        \"std\": 47,\n        \"min\": 385,\n        \"max\": 561,\n        \"num_unique_values\": 20,\n        \"samples\": [\n          553,\n          485,\n          441\n        ],\n        \"semantic_type\": \"\",\n        \"description\": \"\"\n      }\n    },\n    {\n      \"column\": \"\\u05e2\\u05d1\\u05d9\\u05e8\\u05d5\\u05ea \\u05e1\\u05d3\\u05e8 \\u05e6\\u05d9\\u05d1\\u05d5\\u05e8\\u05d9\",\n      \"properties\": {\n        \"dtype\": \"number\",\n        \"std\": 90,\n        \"min\": 1021,\n        \"max\": 1314,\n        \"num_unique_values\": 20,\n        \"samples\": [\n          1223,\n          1099,\n          1243\n        ],\n        \"semantic_type\": \"\",\n        \"description\": \"\"\n      }\n    },\n    {\n      \"column\": \"\\u05e2\\u05d1\\u05d9\\u05e8\\u05d5\\u05ea \\u05e8\\u05e9\\u05d5\\u05d9\",\n      \"properties\": {\n        \"dtype\": \"number\",\n        \"std\": 5,\n        \"min\": 0,\n        \"max\": 18,\n        \"num_unique_values\": 13,\n        \"samples\": [\n          15,\n          3,\n          5\n        ],\n        \"semantic_type\": \"\",\n        \"description\": \"\"\n      }\n    },\n    {\n      \"column\": \"\\u05e2\\u05d1\\u05d9\\u05e8\\u05d5\\u05ea \\u05ea\\u05e0\\u05d5\\u05e2\\u05d4\",\n      \"properties\": {\n        \"dtype\": \"number\",\n        \"std\": 6,\n        \"min\": 2,\n        \"max\": 25,\n        \"num_unique_values\": 14,\n        \"samples\": [\n          17,\n          24,\n          25\n        ],\n        \"semantic_type\": \"\",\n        \"description\": \"\"\n      }\n    },\n    {\n      \"column\": \"\\u05e7\\u05d1\\u05d5\\u05e6\\u05ea \\u05db\\u05dc \\u05d4\\u05e9\\u05d0\\u05e8\",\n      \"properties\": {\n        \"dtype\": \"number\",\n        \"std\": 20,\n        \"min\": 59,\n        \"max\": 134,\n        \"num_unique_values\": 19,\n        \"samples\": [\n          89,\n          102,\n          134\n        ],\n        \"semantic_type\": \"\",\n        \"description\": \"\"\n      }\n    },\n    {\n      \"column\": \"\\u05e9\\u05d0\\u05e8 \\u05e2\\u05d1\\u05d9\\u05e8\\u05d5\\u05ea\",\n      \"properties\": {\n        \"dtype\": \"number\",\n        \"std\": 0,\n        \"min\": 0,\n        \"max\": 2,\n        \"num_unique_values\": 3,\n        \"samples\": [\n          0,\n          1,\n          2\n        ],\n        \"semantic_type\": \"\",\n        \"description\": \"\"\n      }\n    }\n  ]\n}"
            }
          },
          "metadata": {},
          "execution_count": 87
        }
      ]
    },
    {
      "cell_type": "code",
      "source": [
        "# Calculate the total number of crimes at each quarter\n",
        "total_crimes_by_quarter = df_crimes.groupby('Quarter')['TikimSum'].sum()\n"
      ],
      "metadata": {
        "id": "NlZJfHXE1hcD"
      },
      "execution_count": null,
      "outputs": []
    },
    {
      "cell_type": "code",
      "source": [
        "total_crimes_by_quarter"
      ],
      "metadata": {
        "colab": {
          "base_uri": "https://localhost:8080/"
        },
        "id": "5W69YrDE10Ph",
        "outputId": "4e8b741e-7adb-4459-df83-b056c278ea7a"
      },
      "execution_count": null,
      "outputs": [
        {
          "output_type": "execute_result",
          "data": {
            "text/plain": [
              "Quarter\n",
              "2018-Q1    4730\n",
              "2018-Q2    4527\n",
              "2018-Q3    4253\n",
              "2018-Q4    4140\n",
              "2019-Q1    4021\n",
              "2019-Q2    3942\n",
              "2019-Q3    3951\n",
              "2019-Q4    3725\n",
              "2020-Q1    3577\n",
              "2020-Q2    3818\n",
              "2020-Q3    3889\n",
              "2020-Q4    3732\n",
              "2021-Q1    3526\n",
              "2021-Q2    4094\n",
              "2021-Q3    3585\n",
              "2021-Q4    3889\n",
              "2022-Q1    3614\n",
              "2022-Q2    3553\n",
              "2022-Q3    3526\n",
              "2022-Q4    3623\n",
              "2023-Q1    3766\n",
              "Name: TikimSum, dtype: int64"
            ]
          },
          "metadata": {},
          "execution_count": 89
        }
      ]
    },
    {
      "cell_type": "code",
      "source": [
        "import matplotlib.pyplot as plt\n",
        "\n",
        "# Plot the total number of crimes over time\n",
        "plt.figure(figsize=(14, 7))\n",
        "plt.plot(total_crimes_by_quarter.index, total_crimes_by_quarter.values, marker='o', linestyle='-', color='b')\n",
        "plt.title('Total Number of Crimes at Each Quarter')\n",
        "plt.xlabel('Quarter')\n",
        "plt.ylabel('Total Number of Crimes')\n",
        "plt.xticks(rotation=45)\n",
        "plt.grid(True)\n",
        "plt.tight_layout()\n",
        "\n",
        "# Show the plot\n",
        "plt.show()\n"
      ],
      "metadata": {
        "colab": {
          "base_uri": "https://localhost:8080/",
          "height": 634
        },
        "id": "mZWN-XLM1eM-",
        "outputId": "6b0e3dd7-e9a9-4ef1-ff4e-5ce5e8a871e5"
      },
      "execution_count": null,
      "outputs": [
        {
          "output_type": "display_data",
          "data": {
            "text/plain": [
              "<Figure size 1400x700 with 1 Axes>"
            ],
            "image/png": "[encoded data removed]"
          },
          "metadata": {}
        }
      ]
    }
  ]
}